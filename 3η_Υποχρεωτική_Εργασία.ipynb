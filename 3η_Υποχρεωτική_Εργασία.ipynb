{
 "cells": [
  {
   "cell_type": "markdown",
   "metadata": {
    "id": "3OpfcjuSkdWq"
   },
   "source": [
    "# **3η Υποχρεωτική Εργασία** / *Σωτήριος-Λουκάς Καμπύλης, <u>ΑΕΜ:3805</u>*"
   ]
  },
  {
   "cell_type": "markdown",
   "metadata": {
    "id": "Yvz1RdSWmpUQ"
   },
   "source": [
    "## Γενικές Οδηγίες (*για το Dataset της MNIST*):\n",
    "\n",
    "Για τις ανάγκες αυτής της εργασίας χρησιμοποιήθηκε το σύνηθες *Dataset* της **MNIST** με τα *χειρόγραφα ψηφία*, το οποίο φορτώθηκε από το *keras*. Οι εικόνες αποτελούνται από **784 pixels** (ή αλλιώς **28x28**). Η βάση περιέχει **60.000** εικόνες χειρόγραφων ψηφίων με σκοπό την χρήση τους στην εκπαίδευση (*train*) και **10.000** για τον έλεγχο της ποιότητας της εκπαίδευσης (*test*). Επίσης, παρέχονται και οι αντίστοιχες ετικέτες (*labels*), οι οποίες υποδεικνύουν το ψηφίο το οποίο απεικονίζεται στην εκάστοτε εικόνα. Σκοπός και κύριος στόχος της συγκεκριμένης εργασίας είναι: η υλοποίηση (*from scratch*) της μεθόδου **PCA**, η υλοποίηση (*from scratch*) και η σύγκριση της απόδοσης του *κατηγοριοποιητή πλησιέστερου γείτονα*/**KNN** (με 1 και 3 πλησιέστερους γείτονες) με τον *κατηγοριοποιητή πλησιέστερου κέντρου*/**NCC** και με το **RBF** (*Radial Basis Function*), το οποίο υλοποιείται και αυτό *from scratch*! Μάλιστα, υλοποιείται (*from scratch*) και ο αλγόριθμος των Κ-Μέσων (**K-Means**), έτσι ώστε να μπορεί να δουλέψει το **RBF**."
   ]
  },
  {
   "cell_type": "markdown",
   "metadata": {
    "id": "FMpFw6CyoLfu"
   },
   "source": [
    "# 1 Εισαγωγή, Φόρτωση & Επεξεργασία των Δεδομένων"
   ]
  },
  {
   "cell_type": "markdown",
   "metadata": {
    "id": "95uFurwuoQOH"
   },
   "source": [
    "## 1.1 Εισαγωγή Απαραίτητων Βιβλιοθηκών\n",
    "\n",
    "Παρακάτω εισάγονται οι απαραίτητες βιβλιοθήκες για να τρέξει ο υπόλοιπος κώδικας. Αυτές κρίνονται απαραίτητες για το **PCA** ή αλλιώς Principal Component Analysis, τους αλγορίθμους των 2 κατηγοριοποιητών (*κατηγοριοποιητή πλησιέστερου γείτονα με 1 και 3 πλησιέστερους γείτονες* ή αλλιώς K-Nearest Neighbors, **KNN** / *κατηγοριοποιητή πλησιέστερου κέντρου* ή αλλιώς Nearest Class Centroid Method, **NCC**) και για το **RBF** (*Radial Basis Function*). Μάλιστα, χρησιμοποιείται η **timeit** για την καταγραφή χρόνου."
   ]
  },
  {
   "cell_type": "code",
   "execution_count": 1,
   "metadata": {
    "id": "Na5ixrY5ovCN"
   },
   "outputs": [],
   "source": [
    "import tensorflow as tf\n",
    "import numpy as np\n",
    "import matplotlib.pyplot as plt\n",
    "import timeit\n",
    "\n",
    "from keras.datasets import mnist\n",
    "from sklearn.preprocessing import StandardScaler\n",
    "from sklearn.decomposition import PCA\n",
    "from collections import Counter\n"
   ]
  },
  {
   "cell_type": "markdown",
   "metadata": {
    "id": "aK65umCsoRNE"
   },
   "source": [
    "## 1.2 Φόρτωση & Επεξεργασία Δεδομένων\n",
    "\n",
    "Αρχικά, *φορτώνουμε* το σύνολο δεδομένων της **MNIST**. Ύστερα, *κανονικοποιούμε* τις τιμές φωτεινότητας μεταξύ **0** και **1** (από **0** και **255**) έτσι ώστε να δωθεί στα δεδομένα μία κοινή κατάσταση, δηλαδή όλες οι μεταβλητές να είναι κεντραρισμένες παρόμοια. Αυτή η διαδικασία κρίνεται εξαιρετικά σημαντική για την μειώση διαστάσεων με **PCA** (η οποία θα πραγματοποιηθεί στην συνέχεια). Μάλιστα, με την `astype('float32')` μετατρέπουμε το σύνολο δεδομένων σε *32 bit πραγματικούς*, διότι έτσι θα εφαρμοστεί καλύτερα στην *RAM*! Έπειτα ο πίνακας (όπου είναι αποθηκεύμενες αυτές οι τιμές για τα train/test δεδομένα) μετατρέπεται απο *τρισδιάστατος* σε *δισδιάστατος*, κάνοντας τις διαστάσεις **28x28** (δηλαδή **784**)."
   ]
  },
  {
   "cell_type": "code",
   "execution_count": 2,
   "metadata": {
    "colab": {
     "base_uri": "https://localhost:8080/"
    },
    "id": "Ax-KIgU2o53o",
    "outputId": "51cacc65-3a79-48ec-ec89-86b67bf26049"
   },
   "outputs": [
    {
     "name": "stdout",
     "output_type": "stream",
     "text": [
      "Downloading data from https://storage.googleapis.com/tensorflow/tf-keras-datasets/mnist.npz\n",
      "11490434/11490434 [==============================] - 0s 0us/step\n"
     ]
    }
   ],
   "source": [
    "# Φορτώνουμε το σύνολο δεδομένων της MNIST\n",
    "(train_data, train_labels), (test_data, test_labels) = mnist.load_data()\n"
   ]
  },
  {
   "cell_type": "code",
   "execution_count": 3,
   "metadata": {
    "colab": {
     "base_uri": "https://localhost:8080/"
    },
    "id": "qIuFRTXcpIr_",
    "outputId": "268819ba-cdc5-4b4a-ea5a-230fba5a6ba1"
   },
   "outputs": [
    {
     "name": "stdout",
     "output_type": "stream",
     "text": [
      "Train/test data shape: (60000, 784) (10000, 784)\n",
      "Train/test labels shape: (60000,) (10000,)\n"
     ]
    }
   ],
   "source": [
    "# Κανονικοποιούμε τα δεδομένα μεταξύ 0 και 1 (από 0 και 255)\n",
    "train_data = train_data.astype('float32')\n",
    "test_data = test_data.astype('float32')\n",
    "train_data = train_data / 255.0\n",
    "test_data = test_data / 255.0\n",
    "\n",
    "# Μετατρέπω τα train_data/test_data από τρισδιάστατο πίνακα (60000, 28, 28) \n",
    "# σε δισδιάστατο πίνακα (60000, 784)\n",
    "num_pixels = 784\n",
    "train_data = train_data.reshape(train_data.shape[0], num_pixels)\n",
    "test_data = test_data.reshape(test_data.shape[0], num_pixels)\n",
    "\n",
    "# Εκτυπώνω τις τιμές έτσι ώστε να δω πως όλα πήγαν καλά!\n",
    "print(\"Train/test data shape:\", train_data.shape, test_data.shape)\n",
    "print(\"Train/test labels shape:\", train_labels.shape, test_labels.shape)\n"
   ]
  },
  {
   "cell_type": "markdown",
   "metadata": {
    "id": "x7ZSqhBNpMgE"
   },
   "source": [
    "Σύμφωνα με την εκφώνηση το πρόβλημα πρέπει να επιλύει ένα από τα\n",
    "προβλήματα που επιλύσαμε σε μια από τις προηγούμενες εργασίες, οπότε επιλέγουμε να βασίζεται \"<u>στην αναγνώριση μονών και ζυγών αριθμών στα δεκαδικά ψηφία (0,1,...,9) της MNIST</u>\". Για αυτό τον λόγο μετατρέπουμε τις ετικέτες, τη **1η με labels=0**\n",
    "(*για τα άρτια ψηφία*) και τη **2η με labels=1** (*για τα περιττά ψηφία*). Μάλιστα, μειώνεται το Dataset (γιατί αργούν πολύ οι κατηγοριοποιητές με όλο το Dataset, σύμφωνα με τις γνώσεις μας από την *ενδιάμεση εργασία*) στα πρώτα 4000 ψηφία του train_data και στα πρώτα 500 ψηφία του test_data!"
   ]
  },
  {
   "cell_type": "code",
   "execution_count": 4,
   "metadata": {
    "colab": {
     "base_uri": "https://localhost:8080/"
    },
    "id": "oQaeef8kqJrY",
    "outputId": "a64184dd-1352-4e65-b7a7-ab98880f6d04"
   },
   "outputs": [
    {
     "name": "stdout",
     "output_type": "stream",
     "text": [
      "Αριθμός άρτιων ψηφίων του μειωμένου train_data: 1984\n",
      "Αριθμός περιττών ψηφίων του μειωμένου train_data: 2016\n",
      "Αριθμός άρτιων ψηφίων του μειωμένου test_data: 235\n",
      "Αριθμός περιττών ψηφίων του μειωμένου test_data: 265\n"
     ]
    }
   ],
   "source": [
    "# Αλλαγή του τύπου δεδομένων των ετικετών σε ακέραιους\n",
    "train_labels = train_labels.astype(int)\n",
    "test_labels = test_labels.astype(int)\n",
    "\n",
    "# Αλλαγή των ετικετών για το train_data\n",
    "train_labels[(train_labels%2)==0] = 0\n",
    "train_labels[(train_labels%2)!=0] = 1\n",
    "\n",
    "# Αλλαγή των ετικετών για το test_data\n",
    "test_labels[(test_labels%2)==0] = 0\n",
    "test_labels[(test_labels%2)!=0] = 1\n",
    "\n",
    "# Μείωση του Dataset στα πρώτα 4000 ψηφία του train_data και στα πρώτα 500 ψηφία \n",
    "# του test_data (κυρίως γιατί όλο το Dataset είναι πολύ μεγάλο)\n",
    "train_data = train_data[:4000]\n",
    "test_data = test_data[:500]\n",
    "train_labels = train_labels[:4000]\n",
    "test_labels = test_labels[:500]\n",
    "\n",
    "# Κανονικοποιώ με StandardScaler() έτσι ώστε να μην έχω θέμα μετά στο RBF (με φανταστικούς \n",
    "# αριθμούς) και να μπορώ να κάνω σύγκριση με τους 2 παραπάνω κατηγοριοποιητές (KNN/NCC)\n",
    "train_data = StandardScaler().fit_transform(train_data)\n",
    "test_data = StandardScaler().fit_transform(test_data)\n",
    "\n",
    "# Ελέγχω την μοιρασιά (σε άρτιους και περιττούς) των 4000 πρώτων ψηφίων του μειωμένου \n",
    "# train_data\n",
    "print(\"Αριθμός άρτιων ψηφίων του μειωμένου train_data:\", len(train_data[train_labels==0]))\n",
    "print(\"Αριθμός περιττών ψηφίων του μειωμένου train_data:\", len(train_data[train_labels==1]))\n",
    "\n",
    "# Ελέγχω την μοιρασιά (σε άρτιους και περιττούς) των 500 πρώτων ψηφίων του μειωμένου \n",
    "# test_data\n",
    "print(\"Αριθμός άρτιων ψηφίων του μειωμένου test_data:\", len(test_data[test_labels==0]))\n",
    "print(\"Αριθμός περιττών ψηφίων του μειωμένου test_data:\", len(test_data[test_labels==1]))\n"
   ]
  },
  {
   "cell_type": "markdown",
   "metadata": {
    "id": "8SXEH7iKqNzn"
   },
   "source": [
    "# 2 Ανάλυση Κύριων Συνιστωσών, **PCA** (*from sklearn* και *from scratch*)"
   ]
  },
  {
   "cell_type": "markdown",
   "metadata": {
    "id": "HHPeYwZNqOvL"
   },
   "source": [
    "## 2.1 Συνάρτηση PCA (*from sklearn*)"
   ]
  },
  {
   "cell_type": "code",
   "execution_count": 5,
   "metadata": {
    "colab": {
     "base_uri": "https://localhost:8080/"
    },
    "id": "Ku7JB0kwqVuQ",
    "outputId": "83ad39e5-c233-455f-b8ac-e66c819bf5aa"
   },
   "outputs": [
    {
     "name": "stdout",
     "output_type": "stream",
     "text": [
      "Ελάχιστες Διαστάσεις για το train_data (κρατώντας το 90% της πληροφορίας): (4000, 176)\n",
      "Ελάχιστες Διαστάσεις για το test_data (κρατώντας το 90% της πληροφορίας): (500, 103)\n"
     ]
    }
   ],
   "source": [
    "# Ελάχιστες Διαστάσεις για το train_data (κρατώντας το 90% της πληροφορίας)\n",
    "pca = PCA(n_components=0.9)\n",
    "pca_train_data = pca.fit_transform(train_data)\n",
    "\n",
    "# Ελάχιστες Διαστάσεις για το test_data (κρατώντας το 90% της πληροφορίας)\n",
    "pca = PCA(n_components=0.9)\n",
    "pca_test_data = pca.fit_transform(test_data)\n",
    "\n",
    "# Εκτυπώνω τις τιμές έτσι ώστε να δω πως όλα πήγαν καλά!\n",
    "print(\"Ελάχιστες Διαστάσεις για το train_data (κρατώντας το 90% της πληροφορίας):\", pca_train_data.shape)\n",
    "print(\"Ελάχιστες Διαστάσεις για το test_data (κρατώντας το 90% της πληροφορίας):\", pca_test_data.shape)\n"
   ]
  },
  {
   "cell_type": "markdown",
   "metadata": {
    "id": "SAJIw-w_qc59"
   },
   "source": [
    "Σύμφωνα με την έτοιμη συνάρτηση από την sklearn καταλαβαίνουμε πως για το *train_data* πρέπει να πάρουμε τουλάχιστον <u>176 διαστάσεις</u> και για το *test_data* πρέπει να πάρουμε τουλάχιστον <u>103 διαστάσεις</u> (**έτσι ώστε να έχουμε τουλάχιστον το 90% της πληροφορίας**). Επομένως στην υλοποίηση *from scratch* επιλέγεται το **176** ως νέος μειωμένος αριθμός διαστάσεων(για να εξυπηρετηθούν σωστά και τα δύο)."
   ]
  },
  {
   "cell_type": "markdown",
   "metadata": {
    "id": "wWqyr19Pqf87"
   },
   "source": [
    "# 2.2 Συνάρτηση PCA (*from scratch*)\n",
    "\n",
    "Παρακάτω *δημιουργούμε* την συνάρτηση για να εφαρμόσουμε μείωση διαστάσεων στις χειρόγραφες εικόνες με τη χρήση της *Μεθόδου Ανάλυσης Πρωτευουσών Συνιστωσών* (**Principal Component Analysis** ή αλλίως **PCA**). Αρχικά, αφαιρείται ο αριθμητικός μέσος όλων των γραμμών από κάθε γραμμή, έτσι ώστε να κανονικοποιήσουμε τις μεταβλητές. Έπειτα, υπολογίζουμε τον πίνακα συνδιακύμανσης (*covariance matrix*), ώστε να κατανοήσουμε πως οι μεταβλητές ποικίλουν η μία με την άλλη από τον αριθμητικό μέσο και να δούμε αν υπάρχει μεταξύ τους κάποια σχέση. Ο πίνακας αυτός είναι συμμετρικός και έχει σαν καταχωρήσεις τις συνδιακυμάνσεις που σχετίζονται με όλα τα πιθανά ζευγάρια των αρχικών μεταβλητών. Η κύρια διαγώνιος ουσιαστικά περιέχει τη διασπορά όλων των μεταβλητών και επειδή οι καταχωρήσεις είναι συμμετρικές ως προς την κύρια διαγώνιο, ο άνω και κάτω τριγωνικός πίνακας είναι ίσοι. Το πρόσημο του πίνακα μας δείχνει πως σχετίζονται οι μεταβλητές μεταξύ τους. Μετέπειτα, υπολογίζονται οι ιδιοτιμές και τα ιδιοδιανύσματα του πίνακα συνδιασποράς, ώστε να οριστούν οι κύριες συνιστώσες. Τα ιδιοδιανύσματα του πίνακα ουσιαστικά αποτελούν τις κατευθύνσεις των αξόνων όπου υπάρχει η περισσότερη διασπορά, δηλαδή η περισσότερη πληροφορία, και οι ιδιοτιμές είναι οι συντελεστές των διανυσμάτων. Οπότε, ταξινομούμε με φθίνουσα σειρά τα ιδιοδιανύσματα με βάση τις ιδιοτιμές τους και έτσι παίρνουμε τις κύριες συνιστώσες με βάση τη σημαντικότητα τους. Έτσι, απο αυτές κρατάμε όποιες επιθυμούμε απο τις πρώτες. Aυτό το βήμα αποτελεί τον υπολογισμό του feature vector (πίνακα χαρακτηριστικών). Τέλος, πρέπει να προβάλλουμε τα δεδομένα στον άξονα των κυριών συνιστωσών, πολλαπλασιάζοντας τον πίνακα των αρχικών δεδομένων με τον πίνακα χαρακτηριστικών. Όσον αφορά το y, αφαιρείται από αυτό τον αριθμητικό μέσο του x και στη συνέχεια προλλαπλασιάζουμε τον πίνακα χαρακτηριστικών με τον πίνακα του y."
   ]
  },
  {
   "cell_type": "code",
   "execution_count": 6,
   "metadata": {
    "id": "Zm4nm0tfqjUV"
   },
   "outputs": [],
   "source": [
    "# Συνάρτηση που πραγματοποιεί την Ανάλυση Κύριων Συνιστωσών (PCA).\n",
    "# x = train_data\n",
    "# y = test_data\n",
    "# d = Διαστάσεις στις οποίες θα μειωθούν τα train_data & test_data\n",
    "def PCA_2(x, y, d):\n",
    "    # Εύρεση του αριθμητικού μέσου στον πίνακα x\n",
    "    x_mean = np.mean(x, axis=0)\n",
    "    # Αφαίρεση του αριθμητικού μέσου όλων των γραμμών από κάθε γραμμή (για κανονικοποίηση)\n",
    "    x = x - x_mean\n",
    "    # Υπολογισμός Πίνακα Συνδιακύμανσης (ΠΡΟΣΟΧΗ: Θέλει Ανάστροφο Πίνακα γιατί η \n",
    "    # συνάρτηση cov() έχει τα χαρακτηριστικά στις στήλες και τα δείγματα στις γραμμές!)\n",
    "    cov = np.cov(x.T)\n",
    "    # Υπολογισμός Ιδιοτιμών και Ιδιοδιανυσμάτων του Πίνακα Συνδιακύμανσης\n",
    "    eigenvalues, eigenvectors = np.linalg.eig(cov)\n",
    "    # Υπολογισμός Ανάστροφων Ιδιοδιανυσμάτων (γιατί από συνάρτηση linalg.eig()\n",
    "    # επιστράφηκε ως Διάνυσμα Στήλης και όχι ως Ιδιοδιάνυσμα, v[:,i])\n",
    "    eigenvectors = eigenvectors.T\n",
    "    # Δεικτοδότηση των ταξινόμημένων Ιδιοτιμών σε φθίνουσα σειρά\n",
    "    indexes = np.argsort(eigenvalues)[::-1]\n",
    "    eigenvalues = eigenvalues[indexes]\n",
    "    eigenvectors = eigenvectors[indexes]\n",
    "    # Υπολογισμός του νέου πίνακα x, ο οποίος κρατάει τις d πιο σημαντικές τιμές\n",
    "    # του Ιδιοδιανύσματος\n",
    "    new_x = eigenvectors[0:d]\n",
    "    # Αφαίρεση του αριθμητικού μέσου και από τον πίνακα y\n",
    "    y = y - x_mean\n",
    "    # Προβολή του Ιδιοδιανύσματος μέσα στον χώρο του x (εφόσον αναστρέψουμε πάλι\n",
    "    # το x!)\n",
    "    pca_train = np.dot(x, new_x.T)\n",
    "    # Προβολή του Ιδιοδιανύσματος μέσα στον χώρο του y (εφόσον αναστρέψουμε πάλι\n",
    "    # το y!)\n",
    "    pca_test = np.dot(y, new_x.T)\n",
    "    return pca_train, pca_test\n"
   ]
  },
  {
   "cell_type": "code",
   "execution_count": 7,
   "metadata": {
    "colab": {
     "base_uri": "https://localhost:8080/"
    },
    "id": "bFU3y1hdqpCv",
    "outputId": "da59f1f0-caf7-42bd-8dd5-fb6f7cdbe57d"
   },
   "outputs": [
    {
     "name": "stdout",
     "output_type": "stream",
     "text": [
      "Ελάχιστες Διαστάσεις για το train_data (κρατώντας το 90% της πληροφορίας): (4000, 176)\n",
      "Ελάχιστες Διαστάσεις για το test_data (κρατώντας το 90% της πληροφορίας): (500, 176)\n"
     ]
    }
   ],
   "source": [
    "# Επιστροφή των δεδομένων μέσα από την συνάρτηση PCA (δηλαδή τις προβολές των\n",
    "# Ιδιοδιανυσμάτων για το pca_train & το pca_test)\n",
    "new_train_data, new_test_data = PCA_2(train_data, test_data, 176)\n",
    "\n",
    "# Εκτυπώνω τις τιμές έτσι ώστε να δω πως όλα πήγαν καλά!\n",
    "print(\"Ελάχιστες Διαστάσεις για το train_data (κρατώντας το 90% της πληροφορίας):\", new_train_data.shape)\n",
    "print(\"Ελάχιστες Διαστάσεις για το test_data (κρατώντας το 90% της πληροφορίας):\", new_test_data.shape)\n"
   ]
  },
  {
   "cell_type": "code",
   "execution_count": 8,
   "metadata": {
    "colab": {
     "base_uri": "https://localhost:8080/",
     "height": 268
    },
    "id": "166q50G-qwCi",
    "outputId": "64ef38a9-9f0d-4203-a6b9-42b3c9455444"
   },
   "outputs": [
    {
     "data": {
      "image/png": "[encoded data removed]",
      "text/plain": [
       "<Figure size 432x288 with 1 Axes>"
      ]
     },
     "metadata": {
      "needs_background": "light"
     },
     "output_type": "display_data"
    }
   ],
   "source": [
    "# Οπτικοποίηση των δεδομένων μετά από την χρήση της μεθόδου PCA\n",
    "# Οι πίνακες T είναι πίνακες αληθείας που αναπαριστούν κάθε χειρόγραφο ψηφίο του Dataset\n",
    "T0 = train_labels == 0\n",
    "T1 = train_labels == 1\n",
    "\n",
    "# Τοποθέτηση των γραμμών κάθε πίνακα T σε έναν άλλο πίνακα (για την επαλήθευση του Dataset\n",
    "# και την οπτικοποίηση του)\n",
    "M0 = new_train_data[T0 == 1, :]\n",
    "M1 = new_train_data[T1 == 1, :]\n",
    "\n",
    "# Εξαγωγή μόνο του πραγματικού μέρους του Ιδιοδιανύσματος\n",
    "NM0 = M0.real\n",
    "NM1 = M1.real\n",
    "\n",
    "# Σχεδίαση των δεδομένων σε μια γραφική αναπαράσταση\n",
    "plt.scatter(NM0[:, 0], NM0[:, 1], marker=\"*\")\n",
    "plt.scatter(NM1[:, 0], NM1[:, 1], marker=\"*\")\n",
    "plt.show()"
   ]
  },
  {
   "cell_type": "markdown",
   "metadata": {
    "id": "04t18Zybq0o6"
   },
   "source": [
    "Τελικά, εφαρμόζω την μέθοδο που υλοποιήθηκε *from scratch* στα παρακάτω γιατί θεωρώ πως λειτουργεί σωστά!"
   ]
  },
  {
   "cell_type": "markdown",
   "metadata": {
    "id": "JaSVEQMmq7nK"
   },
   "source": [
    "# 3 Χρήσιμες Μετρικές & Υλοποίηση/Σύκριση των 2 κατηγοριοποιητών."
   ]
  },
  {
   "cell_type": "markdown",
   "metadata": {
    "id": "Pzq9Oqs0q-4D"
   },
   "source": [
    "## 3.1 Δημιουργία (*from scratch*) των 2 μετρικών που θα χρησιμοποιηθούν για την σύγκριση των 2 κατηγοριοποιητών (**KNN/NCC**) και του **RBF**.\n",
    "\n",
    "Επιλέγονται οι: α)*Μετρική της Ευκλείδειας Απόστασης*, β)*Μετρική της Ακρίβειας* & γ)*Μετρική της Απόστασης (μέσα από Νόρμα)*!"
   ]
  },
  {
   "cell_type": "code",
   "execution_count": 9,
   "metadata": {
    "id": "2wJU06KHrA2N"
   },
   "outputs": [],
   "source": [
    "# Συνάρτηση που υπολογίζει την Ευκλείδεια Απόσταση\n",
    "def euclidean_distance(x1, x2):\n",
    "    return np.sqrt(np.sum((x1 - x2) ** 2))\n",
    "\n",
    "# Συνάρτηση που υπολογίζει την Ακρίβεια\n",
    "def accuracy(y_true, y_pred):\n",
    "    return np.sum(y_true == y_pred) / len(y_true)\n",
    "\n",
    "# Συνάρτηση που υπολογίζει την Απόσταση (Χρησιμοποιείται στους K Μέσους/K Means)\n",
    "def distance(x1, x2):\n",
    "  return np.linalg.norm(x1-x2)"
   ]
  },
  {
   "cell_type": "markdown",
   "metadata": {
    "id": "ReaGXgZZrFUj"
   },
   "source": [
    "## 3.2 Κατηγοριοποιητής Κ Πλησιέστερων Γειτόνων (*from scratch*)\n",
    "\n",
    "Ο Κατηγοριοποιητής Πλησιέστερων Γειτόνων είναι μία ιδιαίτερα διαδεδομένη επιβλεπόμενη μέθοδος. Αρχικά, ο αλγόριθμος δέχεται ως είσοδο τα σημεία τα οποία πρέπει να χρησιμοποιήσει για να λάβει μια μελλοντική απόφαση κατηγοριοποίησης, τις ετικέτες αυτών των σημείων, την παράμετρο Κ, καθώς και τα σημεία που καλείται να κατηγοριοποιήσει. Η παράμετρος Κ που αναφέρθηκε προηγουμένως καθορίζει το πλήθος των σημείων που εν τέλει θα επηρεάσουν την απόφαση που θα ληφθεί για ένα καινούργιο σημείο προς κατηγοριοποίηση. Η γενική ιδέα του κατηγοριοποιητή αυτού είναι η προσπάθεια να εκμεταλλευτεί την τοπικότητα η οποία χαρακτηρίζει τα δείγματα που ανήκουν στην ίδια κλάση για το εκάστοτε πρόβλημα, δηλαδή βασίζεται στο όσο πιο κοντά είναι τα σημεία θα είναι και τόσο πιο όμοια! Δεδομένου κάποιου συγκεκριμένου Κ (στην περίπτωσή μας 1 ή 3) υπολογίζονται οι αποστάσεις μεταξύ ενός δοσμένου σημείου και των σημείων του συνόλου δεδομένων, ταξινομούνται με φθίνουσα σειρά και παίρνονται οι ετικέτες των πρώτων Κ καταχωρήσεων. Τέλος, επιστρέφεται η πρόβλεψη για το σημείο αυτό. Όσον αφορά την απόσταση, χρησιμοποιείται η Ευκλείδια Απόσταση."
   ]
  },
  {
   "cell_type": "code",
   "execution_count": 10,
   "metadata": {
    "id": "NPvksO4yrGDW"
   },
   "outputs": [],
   "source": [
    "# Κλάση του Κατηγοριοποιητή Κ Πλησιέστερων Γειτόνων\n",
    "class KNN:\n",
    "    def __init__(self, k):\n",
    "        self.k = k\n",
    "\n",
    "    def fit(self, X, y):\n",
    "        self.X_train = X\n",
    "        self.y_train = y\n",
    "\n",
    "    def predict(self, X):\n",
    "        y_pred = [self._predict(x) for x in X]\n",
    "        return np.array(y_pred)\n",
    "\n",
    "    def _predict(self, x):\n",
    "        # Υπολογισμός των αποστάσεων μεταξύ των x και όλων των παραδειγμάτων στο x_train\n",
    "        # μέσω της Ευκλείδειας απόστασης\n",
    "        distances = [euclidean_distance(x, x_train) for x_train in self.X_train]\n",
    "        # Ταξινόμηση μέσα από τις αποστάσεις και επιστροφή των δεικτών από τους k\n",
    "        # κοντινότερους γείτονες\n",
    "        k_idx = np.argsort(distances)[:self.k]\n",
    "        # Εύρεση ετικετών των k κοντινότερων γειτόνων του y_train\n",
    "        k_neighbor_labels = [self.y_train[i] for i in k_idx]\n",
    "        # Επιστροφή της πιο κοινής ετικέτας μιας κλάσης (από τα χειρόγραφα ψηφία)\n",
    "        most_common = Counter(k_neighbor_labels).most_common(1)\n",
    "        return most_common[0][0]\n"
   ]
  },
  {
   "cell_type": "markdown",
   "metadata": {
    "id": "L1dJZhrVrJt-"
   },
   "source": [
    "## 3.3 Κατηγοριοποιητής Πλησιέστερου Κέντρου (**NCC** *from scratch*)\n",
    "\n",
    "Ο Κατηγοριοποιητής Πλησιέστερου Κέντρου είναι μια μέθοδος που μοιάζει πολύ σε λογική με αυτή των Κ-μέσων. Ο αλγόριθμος δέχεται ως είσοδο τα σημεία τα οποία πρέπει να χρησιμοποιήσει για να λάβει μια μελλοντική απόφαση κατηγοριοποίησης, τις ετικέτες αυτών των σημείων, καθώς και τα σημεία που καλείται να κατηγοριοποιήσει. Η γενική ιδέα του κατηγοριοποιητή αυτού είναι η δημιουργία ενός κύκλου γύρω από κάθε κλάση ο οποίος έχει ως κέντρο του εχει το διάνυσμα με τις μέσες τιμές για κάθε χαρακτηριστικό του συνόλου των σημείων που συμμετέχουν στην κλάση αυτή, δηλαδή βασίζεται στο ότι δεδομένου ενός σημείου, του δίνει μία ετικέτα από τα δεδομένα εκπαίδευσης, ανάλογα με το ποιο κέντρο αυτών είναι κοντά του. Το κέντρο κάθε κλάσης υπολογίζεται στην εκπαίδευση. Μετά, δεδομένου ενός σημείου υπολογίζονται οι αποστάσεις από αυτό σε κάθε κέντρο κλάσης. Από όλες τις αποστάσεις επιλέγεται η μικρότερη και η ετικέτα κλάσης αυτού του κέντρου δίνεται στο σημείο."
   ]
  },
  {
   "cell_type": "code",
   "execution_count": 11,
   "metadata": {
    "id": "4IYh0lfNrMnE"
   },
   "outputs": [],
   "source": [
    "# Κλάση του Κατηγοριοποιητή Πλησιέστερου Κέντρου\n",
    "class NearestCentroid:\n",
    "    def __init__(self, images, labels):\n",
    "        self.images = images\n",
    "        self.labels = labels\n",
    "        self.num_images = len(images)\n",
    "\n",
    "    def fit(self):\n",
    "        classes = np.unique(self.labels)\n",
    "        self.classes = classes\n",
    "        centroids = np.empty((classes.shape[0], self.images.shape[1]))\n",
    "        label_to_image = []\n",
    "        for cl in classes:\n",
    "            img_label = []\n",
    "            for j in range(0, self.num_images):\n",
    "                if self.labels[j] == cl:\n",
    "                    img_label.append(self.images[j])\n",
    "            label_to_image.append(img_label)\n",
    "        for i in range(0, len(classes)):\n",
    "            centroids[i] = np.mean(label_to_image[i], axis=0)\n",
    "        self.centroids = centroids\n",
    "\n",
    "    def predict(self, images):\n",
    "        classified = []\n",
    "        for image in images:\n",
    "            smallest_dist = 99999999\n",
    "            cl = None\n",
    "            for i, centroid in enumerate(self.centroids):\n",
    "                dist = np.sqrt(np.sum((image - centroid) ** 2))\n",
    "                if dist < smallest_dist:\n",
    "                    smallest_dist = dist\n",
    "                    cl = i\n",
    "            classified.append([cl])\n",
    "        return classified\n"
   ]
  },
  {
   "cell_type": "markdown",
   "metadata": {
    "id": "5syI3oHRrPkM"
   },
   "source": [
    "# 4 Σύγκριση των 2 κατηγοριοποιητών (**KNN/NCC**).\n",
    "\n",
    "Παρακάτω συγκρίνω τους 2 κατηγοριοποιητές, **KNN** & **NCC** (μετά από την μετατροπή των συνιστωσών μέσα από το **PCA** της *sklearn*)!"
   ]
  },
  {
   "cell_type": "code",
   "execution_count": 12,
   "metadata": {
    "colab": {
     "base_uri": "https://localhost:8080/"
    },
    "id": "zyAHcyvDrTs-",
    "outputId": "3e79db67-5cb0-4182-ab6f-c3022865f914"
   },
   "outputs": [
    {
     "name": "stdout",
     "output_type": "stream",
     "text": [
      "Προβέψεις για τον KNN (με 1 γείτονα): [1 0 1 0 0 1 0 0 1 1 0 0 1 0 1 1 1 1 1 0 1 0 0 1 1 0 1 0 0 1 1 1 1 0 1 0 1\n",
      " 1 1 1 1 1 0 0 1 1 1 0 0 0 0 0 1 1 0 0 0 1 1 1 1 0 1 1 1 1 0 0 1 0 1 0 0 1\n",
      " 1 1 1 1 1 1 1 0 0 1 0 0 1 1 0 1 1 0 0 1 1 0 1 1 0 1 0 0 1 0 1 1 0 1 1 0 0\n",
      " 1 1 1 1 1 0 0 1 0 1 1 1 0 1 0 0 1 0 1 0 0 1 1 0 1 0 1 0 0 0 1 1 1 1 1 0 0\n",
      " 0 0 1 0 1 1 1 1 0 0 1 0 0 0 1 0 0 1 0 0 1 0 0 1 0 1 0 1 1 0 1 0 1 0 1 0 0\n",
      " 1 0 0 0 1 1 1 0 0 0 0 1 0 0 1 1 0 1 1 1 1 1 1 0 1 0 1 1 1 1 0 1 0 1 1 1 0\n",
      " 0 1 1 0 0 0 1 1 1 1 0 0 1 1 0 0 0 1 1 0 0 1 1 1 0 0 0 1 0 1 1 1 1 1 0 1 0\n",
      " 0 0 1 1 1 0 1 0 1 0 0 1 0 1 1 1 0 1 0 0 1 0 1 1 1 1 0 0 0 1 1 1 1 1 0 0 0\n",
      " 0 0 0 0 1 1 1 0 0 0 0 1 0 1 1 0 0 1 1 1 0 1 0 0 1 1 1 1 0 0 0 0 1 1 1 0 1\n",
      " 1 1 0 1 1 0 0 1 0 1 1 0 1 0 1 1 1 1 1 0 0 1 0 1 1 0 0 0 0 1 1 1 0 0 0 0 1\n",
      " 1 0 1 0 0 0 0 1 1 0 0 1 1 1 0 1 0 0 1 1 0 0 0 1 1 1 0 1 0 0 0 0 1 0 0 0 1\n",
      " 0 1 1 1 1 1 1 1 1 1 1 0 1 0 0 1 0 0 0 1 1 0 0 1 0 0 1 1 0 0 1 1 0 0 0 1 0\n",
      " 0 0 0 0 1 1 1 1 0 1 1 1 0 0 0 0 1 0 0 0 1 0 0 0 1 1 0 1 0 1 0 0 1 0 0 0 1\n",
      " 1 1 0 0 0 0 1 1 1 0 1 0 1 1 0 1 0 0 0]\n",
      "Ακρίβεια για τον KNN: (με 1 γείτονα) 92.40 %\n",
      "Χρόνος: 16.207086218 δευτερόλεπτα\n"
     ]
    }
   ],
   "source": [
    "start = timeit.default_timer()\n",
    "clf = KNN(k=1)\n",
    "clf.fit(new_train_data, train_labels)\n",
    "predictions = clf.predict(new_test_data)\n",
    "print(\"Προβέψεις για τον KNN (με 1 γείτονα):\", predictions)\n",
    "# Εύρεση της Ακρίβειας (με βάση την Εκατονταβάθμια Κλίμακα)\n",
    "print(\"Ακρίβεια για τον KNN: (με 1 γείτονα)\", format(accuracy(test_labels, predictions) * 100, \".2f\"), \"%\")\n",
    "stop = timeit.default_timer()\n",
    "print('Χρόνος:', stop - start, 'δευτερόλεπτα')\n"
   ]
  },
  {
   "cell_type": "code",
   "execution_count": 13,
   "metadata": {
    "colab": {
     "base_uri": "https://localhost:8080/"
    },
    "id": "g7bnPH3xrZWO",
    "outputId": "924b3f61-2ea9-42da-c650-eb9a7b7c1195"
   },
   "outputs": [
    {
     "name": "stdout",
     "output_type": "stream",
     "text": [
      "Προβέψεις για τον KNN (με 3 γείτονες): [1 0 1 0 0 1 0 1 1 1 0 0 1 0 1 1 1 1 1 0 1 0 0 1 0 0 1 0 0 1 1 1 1 0 1 0 1\n",
      " 1 0 1 1 1 0 0 1 1 1 0 0 0 0 0 1 1 0 0 0 1 1 1 1 0 1 1 1 0 0 0 1 0 1 0 0 1\n",
      " 1 1 1 0 1 1 1 0 0 1 0 0 1 1 0 1 1 0 0 1 1 0 1 1 0 1 0 0 1 0 1 1 0 1 1 0 0\n",
      " 1 1 1 1 1 0 0 1 0 1 1 1 0 1 0 0 1 0 1 0 0 1 1 0 1 0 1 0 0 0 1 1 1 1 1 0 0\n",
      " 0 0 1 0 1 1 1 1 0 0 0 0 0 0 1 0 0 0 0 1 1 0 0 1 0 1 0 1 1 0 1 0 1 0 1 0 0\n",
      " 1 0 1 0 1 1 1 0 0 0 0 1 0 0 1 1 0 1 1 1 1 1 1 0 1 0 1 1 1 1 0 1 1 1 1 1 1\n",
      " 0 1 1 0 0 0 1 1 1 1 0 0 1 1 0 0 0 1 1 0 0 1 1 1 0 0 0 0 1 1 1 1 1 1 0 1 0\n",
      " 0 0 1 1 1 0 1 0 1 0 0 1 0 1 1 1 0 1 0 0 1 0 1 1 1 1 0 0 0 1 0 0 0 1 0 0 0\n",
      " 0 0 0 0 1 1 1 0 0 0 0 1 0 1 1 0 0 1 1 1 0 1 0 0 1 1 1 1 0 0 0 0 1 1 1 0 1\n",
      " 1 1 0 0 1 0 0 1 0 1 1 0 1 0 1 1 1 1 1 0 0 1 0 1 1 0 1 0 0 1 0 1 0 0 0 0 1\n",
      " 1 0 0 0 0 1 0 1 1 0 0 1 1 1 0 1 0 0 1 1 0 0 0 1 1 1 0 1 0 0 0 0 1 1 0 0 0\n",
      " 0 1 1 1 1 1 1 1 1 1 1 0 1 0 0 1 0 0 0 1 1 0 0 1 0 0 1 1 1 0 1 1 0 0 0 1 0\n",
      " 0 0 0 0 1 1 1 1 0 1 1 1 1 0 0 0 1 0 0 0 1 0 0 0 1 1 0 1 0 1 0 0 1 0 0 0 1\n",
      " 1 1 1 0 0 0 1 1 1 0 1 0 1 1 0 1 0 0 0]\n",
      "Ακρίβεια για τον KNN: (με 3 γείτονες) 93.20 %\n",
      "Χρόνος: 19.005843588000005 δευτερόλεπτα\n"
     ]
    }
   ],
   "source": [
    "start = timeit.default_timer()\n",
    "clf = KNN(k=3)\n",
    "clf.fit(new_train_data, train_labels)\n",
    "predictions = clf.predict(new_test_data)\n",
    "print(\"Προβέψεις για τον KNN (με 3 γείτονες):\", predictions)\n",
    "# Εύρεση της Ακρίβειας (με βάση την Εκατονταβάθμια Κλίμακα)\n",
    "print(\"Ακρίβεια για τον KNN: (με 3 γείτονες)\", format(accuracy(test_labels, predictions) * 100, \".2f\"), \"%\")\n",
    "stop = timeit.default_timer()\n",
    "print('Χρόνος:', stop - start, 'δευτερόλεπτα')\n"
   ]
  },
  {
   "cell_type": "code",
   "execution_count": 14,
   "metadata": {
    "colab": {
     "base_uri": "https://localhost:8080/"
    },
    "id": "ricCEhLxrbks",
    "outputId": "54658ad0-4c64-4340-ea8e-d6a7841b805f"
   },
   "outputs": [
    {
     "name": "stdout",
     "output_type": "stream",
     "text": [
      "Προβέψεις για τον NCC: [1 0 1 0 0 1 1 1 0 1 0 0 1 0 1 0 0 1 0 1 1 0 0 1 1 0 1 0 0 1 1 1 1 0 1 0 1\n",
      " 1 1 1 1 1 1 0 1 1 1 0 0 0 0 0 1 1 0 0 0 1 1 1 1 0 1 1 1 1 0 0 1 0 1 0 0 1\n",
      " 1 1 1 1 1 1 1 0 0 1 0 0 1 1 0 1 1 0 1 1 1 0 1 1 0 0 0 0 1 0 0 1 0 1 1 0 0\n",
      " 1 1 1 1 1 1 0 1 0 0 0 1 0 1 1 0 1 1 1 0 0 0 0 1 1 0 1 0 0 0 1 1 1 1 1 0 0\n",
      " 0 0 0 0 1 1 1 0 0 0 1 1 1 0 1 0 0 0 0 1 1 1 1 1 0 1 0 1 1 1 1 0 1 0 1 0 0\n",
      " 0 0 1 0 1 1 1 0 1 0 1 1 0 1 0 0 0 1 1 1 1 1 1 0 1 0 1 1 1 1 0 1 0 1 1 1 0\n",
      " 0 1 1 0 1 1 1 1 1 1 0 1 1 1 0 0 0 1 1 0 0 1 1 0 0 0 0 0 1 1 1 1 1 1 1 1 0\n",
      " 0 0 1 1 1 1 1 0 1 0 0 1 0 1 1 1 0 1 1 0 1 0 0 1 1 0 0 0 0 1 1 1 0 1 0 0 1\n",
      " 0 0 0 1 1 1 1 1 1 0 0 1 1 1 1 0 0 0 1 0 0 1 0 0 1 1 1 1 0 1 0 0 1 1 1 1 1\n",
      " 1 1 1 0 1 0 0 1 1 1 0 1 1 0 1 1 1 1 0 0 0 1 0 1 1 1 1 0 0 1 0 1 0 0 1 0 1\n",
      " 1 0 0 1 1 1 1 1 1 0 0 1 1 1 0 1 0 1 1 1 0 0 0 1 1 0 0 1 0 0 0 1 0 1 1 0 0\n",
      " 0 0 1 1 1 1 1 1 1 1 1 0 1 1 0 1 0 0 0 1 1 0 1 1 1 1 1 1 1 1 1 1 0 0 0 1 1\n",
      " 0 0 0 0 1 0 1 1 0 0 1 1 1 0 1 0 1 0 0 0 1 1 0 1 0 1 1 1 0 1 0 0 1 0 0 1 1\n",
      " 1 1 1 1 0 1 1 1 1 0 1 0 0 1 0 1 1 0 1]\n",
      "Ακρίβεια για τον NCC: 80.60 %\n",
      "Χρόνος: 0.027425192999999126 δευτερόλεπτα\n"
     ]
    },
    {
     "name": "stderr",
     "output_type": "stream",
     "text": [
      "<ipython-input-11-fabab186690c>:20: ComplexWarning: Casting complex values to real discards the imaginary part\n",
      "  centroids[i] = np.mean(label_to_image[i], axis=0)\n"
     ]
    }
   ],
   "source": [
    "start = timeit.default_timer()\n",
    "clf = NearestCentroid(new_train_data, train_labels)\n",
    "clf.fit()\n",
    "predictions = clf.predict(new_test_data)\n",
    "predictions = np.array(predictions)\n",
    "predictions = predictions.flatten()\n",
    "print(\"Προβέψεις για τον NCC:\", predictions)\n",
    "# Εύρεση της Ακρίβειας (με βάση την Εκατονταβάθμια Κλίμακα)\n",
    "print(\"Ακρίβεια για τον NCC:\", format(accuracy(test_labels, predictions)*100, \".2f\"), \"%\")\n",
    "stop = timeit.default_timer()\n",
    "print('Χρόνος:', stop - start, 'δευτερόλεπτα')\n"
   ]
  },
  {
   "cell_type": "markdown",
   "metadata": {
    "id": "pCE_iyqOkh1M"
   },
   "source": [
    "# 5 Νευρωνικό Δίκτυο Συνάρτησης Ακτινικής Βάσης (**RBF**) και αλγόριθμος Κ-Μέσων (**K-Means**).\n",
    "\n",
    "Ενα σύνηθες *Νευρωνικό Δίκτυο Συνάρτησης Ακτινικής Βάσης* (ή αλλιώς **Radial Basis Function Neural Network**) αποτελείται από μία αρχιτεκτονική 3 επιπέδων νευρώνων. Στο 1ο επίπεδο βρίσκονται οι νευρώνες εισόδου, οι οποίοι\n",
    "συνδέονται πλήρως με το 2o στρώμα που αποτελείται από νευρώνες με συνάρτηση ενεργοποίησης κάποια συνάρτηση ακτινικής βάσης (για αυτό και ονομάζεται έτσι το δίκτυο). Ακόμα, οι έξοδοι του μεσαίου στρώματος προωθούνται στο τελευταίο στρώμα, αυτό της εξόδου, το οποίο για προβλήματα κατηγοριοποίησης αποτελείται από **Κ νευρώνες**, όπου *Κ* ο αριθμός των πιθανών κλάσεων για ενα δείγμα. Ο βασικός στόχος του δικτύου είναι η δημιουργία συστάδων γύρω από κάποια κέντρα,  οι οποίες θα περιέχουν το σύνολο των δειγμάτων που θεωρεί το δίκτυο πως ανήκουν στην ίδια κλάση. Έτσι όταν καλείται να κατηγοριοποιήσει κάποιο νέο δείγμα υπολογίζει την απόσταση του από το κέντρο κάθε συστάδας και παράγει το ανάλογο αποτέλεσμα. Μάλιστα, για το μεσαίο στρώμα, το οποίο είναι και υπεύθυνο για την δημιουργία συστάδων και τον υπολογισμό των αποστάσεων κάθε δείγματος απο τα κέντρα τους, απαιτείται το κέντρο καθώς και η διασπορά για κάθε νευρώνα του. Για να βρεθούν τα κέντρα μπορεί να γίνει τυχαία επιλογή από τα δείγματα εκπαίδευσης ή χρήση κάποιας μεθόδου ομαδοποίησης, όπως αυτή των *Κ-Μέσων* (**K Means**). Τέλος, για την διασπορά κάθε συστάδας γίνεται χρήση της μέγιστης απόστασης ανάμεσα σε δύο διαφορετικά κέντρα από αυτά που έχουν επιλεγεί στο προηγούμενο βήμα.\n",
    "\n",
    "Παρακάτω υλοποιείται ένα τέτοιο δίκτυο (*from scratch*):"
   ]
  },
  {
   "cell_type": "code",
   "execution_count": 15,
   "metadata": {
    "id": "Zq5gVixwX_8t"
   },
   "outputs": [],
   "source": [
    "# Συνάρτηση που επιλέγει τυχαία centroids για το RBF\n",
    "def random(X, k):\n",
    "    return X[np.random.choice(X.shape[0], k, replace=False)], [np.std(x) for x in X]"
   ]
  },
  {
   "cell_type": "code",
   "execution_count": 16,
   "metadata": {
    "id": "vUke7lDPYDQC"
   },
   "outputs": [],
   "source": [
    "# Συνάρτηση που υλοποιείται ο αλγόριθμος των Κ-Μέσων/K-Means\n",
    "def kmeans(X, k, max_iters=20):\n",
    "    centroids = X[np.random.choice(range(len(X)), k, replace=False)]\n",
    "    converged = False\n",
    "    current_iter = 0\n",
    "    while (not converged) and (current_iter < max_iters):\n",
    "        cluster_list = [[] for i in range(len(centroids))]\n",
    "        for x in X:\n",
    "            distances_list = []\n",
    "            for c in centroids:\n",
    "                distances_list.append(distance(c, x))\n",
    "            cluster_list[int(np.argmin(distances_list))].append(x)\n",
    "        cluster_list = list((filter(None, cluster_list)))\n",
    "        prev_centroids = centroids.copy()\n",
    "        centroids = []\n",
    "        for j in range(len(cluster_list)):\n",
    "            centroids.append(np.mean(cluster_list[j], axis=0))\n",
    "        pattern = np.abs(np.sum(prev_centroids) - np.sum(centroids))\n",
    "        converged = (pattern == 0)\n",
    "        current_iter += 1\n",
    "    return np.array(centroids),  [np.std(x) for x in cluster_list]\n"
   ]
  },
  {
   "cell_type": "code",
   "execution_count": 17,
   "metadata": {
    "id": "Braz1FWdYGDb"
   },
   "outputs": [],
   "source": [
    "# Κλάση που υλοποιείται ένα Νευρωνικό Δίκτυο Συνάρτησης Ακτινικής Βάσης (RBF)\n",
    "class RBF:\n",
    "    def __init__(self, X, y, testX, testy, classes_n, k, method=kmeans, std_from_clusters=True):\n",
    "        self.X = X\n",
    "        self.y = y\n",
    "        self.testX = testX\n",
    "        self.testy = testy\n",
    "        self.classes_n = classes_n\n",
    "        self.k = k\n",
    "        self.method = method\n",
    "        self.std_from_clusters = std_from_clusters\n",
    "\n",
    "    def hot_encoding(self, x, classes_n):\n",
    "        arr = np.zeros((len(x), classes_n))\n",
    "        for i in range(len(x)):\n",
    "            c = int(x[i])\n",
    "            arr[i][c] = 1\n",
    "        return arr\n",
    "\n",
    "    def get_rbf(self, x, c, sigma):\n",
    "        distance_r = distance(x, c)\n",
    "        return 1 / np.exp(-distance_r / sigma ** 2)\n",
    "\n",
    "    def get_rbf_as_list(self, X, centroids, std_list):\n",
    "        RBF_list = []\n",
    "        for x in X:\n",
    "            RBF_list.append([self.get_rbf(x, c, s) for (c, s) in zip(centroids, std_list)])\n",
    "        return np.array(RBF_list)\n",
    "\n",
    "    def fit(self):\n",
    "        self.centroids, self.std_list = self.method(self.X, self.k)\n",
    "        if not self.std_from_clusters:\n",
    "          dMax = np.max([distance(c1, c2) for c1 in self.centroids for c2 in self.centroids])\n",
    "          self.std_list = np.repeat(dMax / np.sqrt(2 * self.k), self.k)\n",
    "        \n",
    "        # Ορίζουμε τα train RBF σε μια λίστα από centroids\n",
    "        RBF_X = self.get_rbf_as_list(self.X, self.centroids, self.std_list)\n",
    "        # Βρίσκουμε τα Βάρη\n",
    "        self.w = np.linalg.pinv(RBF_X.T @ RBF_X) @ RBF_X.T @ self.hot_encoding(self.y, self.classes_n)\n",
    "        # Παίρνουμε τα test RBF σε μια λίστα από centroids\n",
    "        RBF_list_tst = self.get_rbf_as_list(self.testX, self.centroids, self.std_list)\n",
    "        # Προβλέπουμε τις ετικέτες των test RBF\n",
    "        self.pred_testy = RBF_list_tst @ self.w\n",
    "        # Παίρνουμε αυτό με την μεγαλύτερη πιθανότητα\n",
    "        self.pred_testy = np.array([np.argmax(x) for x in self.pred_testy])\n",
    "        # Βρίσκουμε την διαφορά μεταξύ των προβλέψεων και των πραγματικών ετικετών\n",
    "        diff = self.pred_testy - self.testy\n",
    "        print('Ακρίβεια για το RBF: ', len(np.where(diff == 0)[0]) / len(diff))\n"
   ]
  },
  {
   "cell_type": "markdown",
   "metadata": {
    "id": "Tb8wPZahkiYL"
   },
   "source": [
    "Παρακάτω θα κάνουμε κάποιες δοκιμές, οι οποίες θα αναλυθούν περισσότερο στην παρουσίαση!Περιγραφικά όμως, ρυθμίζουμε τις διάφορες παραμέτρους, δηλαδή, την μέθοδο επιλογής κέντρου (n), τον αριθμό k των clusters, τις επαναλήψεις του κ- μέσων, το αν θα έχουμε τυπική απόκλιση από τα clusters (std_from_clusters)."
   ]
  },
  {
   "cell_type": "code",
   "execution_count": 18,
   "metadata": {
    "colab": {
     "base_uri": "https://localhost:8080/"
    },
    "id": "2zYzzCSOYNWv",
    "outputId": "bc8cbf6a-0f62-4d6d-9812-38464cd38149"
   },
   "outputs": [
    {
     "name": "stdout",
     "output_type": "stream",
     "text": [
      "Ακρίβεια για το RBF:  0.722\n",
      "Ακρίβεια για το RBF:  0.772\n"
     ]
    }
   ],
   "source": [
    "RBF_CLASSIFIER = RBF(new_train_data, train_labels, new_train_data, train_labels, classes_n=2,\n",
    "                     k=10, method=random, std_from_clusters=False)\n",
    "\n",
    "rbf_pred = RBF_CLASSIFIER.fit()\n",
    "\n",
    "RBF_CLASSIFIER = RBF(new_test_data, test_labels, new_test_data, test_labels, classes_n=2,\n",
    "                     k=10, method=random, std_from_clusters=False)\n",
    "\n",
    "rbf_pred = RBF_CLASSIFIER.fit()"
   ]
  },
  {
   "cell_type": "code",
   "execution_count": 19,
   "metadata": {
    "colab": {
     "base_uri": "https://localhost:8080/"
    },
    "id": "e3ElTtDvlO48",
    "outputId": "b5cb8a55-16c9-4885-8701-21ebee74ab0d"
   },
   "outputs": [
    {
     "name": "stdout",
     "output_type": "stream",
     "text": [
      "Ακρίβεια για το RBF:  0.81275\n",
      "Ακρίβεια για το RBF:  0.784\n"
     ]
    }
   ],
   "source": [
    "RBF_CLASSIFIER = RBF(new_train_data, train_labels, new_train_data, train_labels, classes_n=2,\n",
    "                     k=15, method=random, std_from_clusters=False)\n",
    "\n",
    "rbf_pred = RBF_CLASSIFIER.fit()\n",
    "\n",
    "RBF_CLASSIFIER = RBF(new_test_data, test_labels, new_test_data, test_labels, classes_n=2,\n",
    "                     k=15, method=random, std_from_clusters=False)\n",
    "\n",
    "rbf_pred = RBF_CLASSIFIER.fit()"
   ]
  },
  {
   "cell_type": "code",
   "execution_count": 20,
   "metadata": {
    "colab": {
     "base_uri": "https://localhost:8080/"
    },
    "id": "WpInH21XmYU7",
    "outputId": "1b67d396-8cac-4347-8679-31a9d06cf8c4"
   },
   "outputs": [
    {
     "name": "stdout",
     "output_type": "stream",
     "text": [
      "Ακρίβεια για το RBF:  0.813\n",
      "Ακρίβεια για το RBF:  0.87\n"
     ]
    }
   ],
   "source": [
    "RBF_CLASSIFIER = RBF(new_train_data, train_labels, new_train_data, train_labels, classes_n=2,\n",
    "                     k=25, method=random, std_from_clusters=False)\n",
    "\n",
    "rbf_pred = RBF_CLASSIFIER.fit()\n",
    "\n",
    "RBF_CLASSIFIER = RBF(new_test_data, test_labels, new_test_data, test_labels, classes_n=2,\n",
    "                     k=25, method=random, std_from_clusters=False)\n",
    "\n",
    "rbf_pred = RBF_CLASSIFIER.fit()"
   ]
  },
  {
   "cell_type": "code",
   "execution_count": 21,
   "metadata": {
    "colab": {
     "base_uri": "https://localhost:8080/"
    },
    "id": "xXSfhpWomcYB",
    "outputId": "228dba3a-4a66-435e-a059-376bbde32039"
   },
   "outputs": [
    {
     "name": "stdout",
     "output_type": "stream",
     "text": [
      "Ακρίβεια για το RBF:  0.84475\n",
      "Ακρίβεια για το RBF:  0.876\n"
     ]
    }
   ],
   "source": [
    "RBF_CLASSIFIER = RBF(new_train_data, train_labels, new_train_data, train_labels, classes_n=2,\n",
    "                     k=35, method=random, std_from_clusters=False)\n",
    "\n",
    "rbf_pred = RBF_CLASSIFIER.fit()\n",
    "\n",
    "RBF_CLASSIFIER = RBF(new_test_data, test_labels, new_test_data, test_labels, classes_n=2,\n",
    "                     k=35, method=random, std_from_clusters=False)\n",
    "\n",
    "rbf_pred = RBF_CLASSIFIER.fit()"
   ]
  },
  {
   "cell_type": "markdown",
   "metadata": {
    "id": "yFOR6FGDmg8_"
   },
   "source": [
    "Παρατηρούμε ότι όσο ανεβάζουμε τον αριθμό των clusters, τόσο ανεβαίνει και η ακρίβεια του δικτύου μας. Ας δοκιμάσουμε να αλλάξουμε το std_from_clusters:"
   ]
  },
  {
   "cell_type": "code",
   "execution_count": 22,
   "metadata": {
    "colab": {
     "base_uri": "https://localhost:8080/"
    },
    "id": "MWRF4Pmem3qw",
    "outputId": "443828d0-6660-4ace-8587-b3926a4c0712"
   },
   "outputs": [
    {
     "name": "stdout",
     "output_type": "stream",
     "text": [
      "Ακρίβεια για το RBF:  0.5025\n",
      "Ακρίβεια για το RBF:  0.586\n"
     ]
    }
   ],
   "source": [
    "RBF_CLASSIFIER = RBF(new_train_data, train_labels, new_train_data, train_labels, classes_n=2,\n",
    "                     k=35, method=random, std_from_clusters=True)\n",
    "\n",
    "rbf_pred = RBF_CLASSIFIER.fit()\n",
    "\n",
    "RBF_CLASSIFIER = RBF(new_test_data, test_labels, new_test_data, test_labels, classes_n=2,\n",
    "                     k=35, method=random, std_from_clusters=True)\n",
    "\n",
    "rbf_pred = RBF_CLASSIFIER.fit()"
   ]
  },
  {
   "cell_type": "markdown",
   "metadata": {
    "id": "eAEHykflnCm4"
   },
   "source": [
    "Παρατηρούμε ότι η τυπική απόκλιση από τους clusters **μείωσε** την ακρίβεια του δικτύου μας, κάτι το οποίο είναι και λογικό."
   ]
  }
 ],
 "metadata": {
  "colab": {
   "provenance": []
  },
  "kernelspec": {
   "display_name": "Python 3 (ipykernel)",
   "language": "python",
   "name": "python3"
  },
  "language_info": {
   "codemirror_mode": {
    "name": "ipython",
    "version": 3
   },
   "file_extension": ".py",
   "mimetype": "text/x-python",
   "name": "python",
   "nbconvert_exporter": "python",
   "pygments_lexer": "ipython3",
   "version": "3.9.7"
  }
 },
 "nbformat": 4,
 "nbformat_minor": 1
}
