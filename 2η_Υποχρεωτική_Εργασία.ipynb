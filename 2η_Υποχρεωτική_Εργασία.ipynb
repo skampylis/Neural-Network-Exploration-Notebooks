{
 "cells": [
  {
   "cell_type": "markdown",
   "metadata": {
    "id": "CfjMJNnMKofg"
   },
   "source": [
    "# **2η Υποχρεωτική Εργασία** / *Σωτήριος-Λουκάς Καμπύλης, <u>ΑΕΜ:3805</u>*"
   ]
  },
  {
   "cell_type": "markdown",
   "metadata": {
    "id": "f1WSBOA4K1DV"
   },
   "source": [
    "## Γενικές Οδηγίες (*για το Dataset της MNIST*):\n",
    "\n",
    "Για τις ανάγκες αυτής της εργασίας χρησιμοποιήθηκε το σύνηθες *Dataset* της **MNIST** με τα *χειρόγραφα ψηφία*, το οποίο φορτώθηκε από το *keras*. Οι εικόνες αποτελούνται από **784 pixels** (ή αλλιώς **28x28**). Η βάση περιέχει **60.000** εικόνες χειρόγραφων ψηφίων με σκοπό την χρήση τους στην εκπαίδευση (*train*) και **10.000** για τον έλεγχο της ποιότητας της εκπαίδευσης (*test*). Επίσης, παρέχονται και οι αντίστοιχες ετικέτες (*labels*), οι οποίες υποδεικνύουν το ψηφίο το οποίο απεικονίζεται στην εκάστοτε εικόνα. Σκοπός και κύριος στόχος της συγκεκριμένης εργασίας είναι: η υλοποίηση (*from scratch*) της μεθόδου **PCA**, η υλοποίηση (*from scratch*) και η σύγκριση της απόδοσης του *κατηγοριοποιητή πλησιέστερου γείτονα*/**KNN** (με 1 και 3 πλησιέστερους γείτονες) με τον *κατηγοριοποιητή πλησιέστερου κέντρου*/**NCC** και με το **SVM** (*Support Vector Machine*), βρίσκοντας όμως πρώτα τις καλύτερες παραμέτρους του!"
   ]
  },
  {
   "cell_type": "markdown",
   "metadata": {
    "id": "9mtWpNnvNYpE"
   },
   "source": [
    "# 1 Εισαγωγή, Φόρτωση & Επεξεργασία των Δεδομένων"
   ]
  },
  {
   "cell_type": "markdown",
   "metadata": {
    "id": "oE_z-fnwNgAe"
   },
   "source": [
    "## 1.1 Εισαγωγή Απαραίτητων Βιβλιοθηκών\n",
    "\n",
    "Παρακάτω εισάγονται οι απαραίτητες βιβλιοθήκες για να τρέξει ο υπόλοιπος κώδικας. Αυτές κρίνονται απαραίτητες για το **PCA** ή αλλιώς Principal Component Analysis, τους αλγορίθμους των 2 κατηγοριοποιητών (*κατηγοριοποιητή πλησιέστερου γείτονα με 1 και 3 πλησιέστερους γείτονες* ή αλλιώς K-Nearest Neighbors, **KNN** / *κατηγοριοποιητή πλησιέστερου κέντρου* ή αλλιώς Nearest Class Centroid Method, **NCC**) και για το **SVM** (*Support Vector Machine*). Μάλιστα, χρησιμοποιείται η **timeit** για την καταγραφή χρόνου και η **seaborn** για την απεικόνιση του confusion matrix."
   ]
  },
  {
   "cell_type": "code",
   "execution_count": 1,
   "metadata": {
    "id": "96ODMlmdKrOa"
   },
   "outputs": [],
   "source": [
    "import numpy as np\n",
    "import matplotlib.pyplot as plt\n",
    "import timeit\n",
    "import seaborn as sns\n",
    "\n",
    "from keras.datasets import mnist\n",
    "from sklearn.preprocessing import StandardScaler\n",
    "from sklearn.decomposition import PCA\n",
    "from sklearn.neighbors import KNeighborsClassifier\n",
    "from sklearn.neighbors import NearestCentroid\n",
    "from collections import Counter\n",
    "from sklearn.svm import SVC\n",
    "from sklearn.model_selection import GridSearchCV\n",
    "from sklearn.metrics import confusion_matrix\n",
    "from sklearn.metrics import classification_report\n"
   ]
  },
  {
   "cell_type": "markdown",
   "metadata": {
    "id": "vQw89b-TNxDE"
   },
   "source": [
    "## 1.2 Φόρτωση & Επεξεργασία Δεδομένων\n",
    "\n",
    "Αρχικά, *φορτώνουμε* το σύνολο δεδομένων της **MNIST**. Ύστερα, *κανονικοποιούμε* τις τιμές φωτεινότητας μεταξύ **0** και **1** (από **0** και **255**) έτσι ώστε να δωθεί στα δεδομένα μία κοινή κατάσταση, δηλαδή όλες οι μεταβλητές να είναι κεντραρισμένες παρόμοια. Αυτή η διαδικασία κρίνεται εξαιρετικά σημαντική για την μειώση διαστάσεων με **PCA** (η οποία θα πραγματοποιηθεί στην συνέχεια). Μάλιστα, με την `astype('float32')` μετατρέπουμε το σύνολο δεδομένων σε *32 bit πραγματικούς*, διότι έτσι θα εφαρμοστεί καλύτερα στην *RAM*! Έπειτα ο πίνακας (όπου είναι αποθηκεύμενες αυτές οι τιμές για τα train/test δεδομένα) μετατρέπεται απο *τρισδιάστατος* σε *δισδιάστατος*, κάνοντας τις διαστάσεις **28x28** (δηλαδή **784**)."
   ]
  },
  {
   "cell_type": "code",
   "execution_count": 2,
   "metadata": {
    "colab": {
     "base_uri": "https://localhost:8080/"
    },
    "id": "hKH_2gzZNxbI",
    "outputId": "0a1df157-20a2-46e7-b4c2-f2ca18cb1e05"
   },
   "outputs": [
    {
     "name": "stdout",
     "output_type": "stream",
     "text": [
      "Downloading data from https://storage.googleapis.com/tensorflow/tf-keras-datasets/mnist.npz\n",
      "11490434/11490434 [==============================] - 0s 0us/step\n"
     ]
    }
   ],
   "source": [
    "# Φορτώνουμε το σύνολο δεδομένων της MNIST\n",
    "(train_data, train_labels), (test_data, test_labels) = mnist.load_data()\n"
   ]
  },
  {
   "cell_type": "code",
   "execution_count": 3,
   "metadata": {
    "colab": {
     "base_uri": "https://localhost:8080/"
    },
    "id": "iJI5r3o7OKg_",
    "outputId": "ef6da517-2ccf-4f1f-df56-8e3287d5e035"
   },
   "outputs": [
    {
     "name": "stdout",
     "output_type": "stream",
     "text": [
      "Train/test data shape: (60000, 784) (10000, 784)\n",
      "Train/test labels shape: (60000,) (10000,)\n"
     ]
    }
   ],
   "source": [
    "# Κανονικοποιούμε τα δεδομένα μεταξύ 0 και 1 (από 0 και 255)\n",
    "train_data = train_data.astype('float32')\n",
    "test_data = test_data.astype('float32')\n",
    "train_data = train_data / 255.0\n",
    "test_data = test_data / 255.0\n",
    "\n",
    "# Μετατρέπω τα train_data/test_data από τρισδιάστατο πίνακα (60000, 28, 28) \n",
    "# σε δισδιάστατο πίνακα (60000, 784)\n",
    "num_pixels = 784\n",
    "train_data = train_data.reshape(train_data.shape[0], num_pixels)\n",
    "test_data = test_data.reshape(test_data.shape[0], num_pixels)\n",
    "\n",
    "# Εκτυπώνω τις τιμές έτσι ώστε να δω πως όλα πήγαν καλά!\n",
    "print(\"Train/test data shape:\", train_data.shape, test_data.shape)\n",
    "print(\"Train/test labels shape:\", train_labels.shape, test_labels.shape)\n"
   ]
  },
  {
   "cell_type": "markdown",
   "metadata": {
    "id": "YS_dDoWaRpnk"
   },
   "source": [
    "Σύμφωνα με την εκφώνηση το πρόβλημα που πρέπει να λύσουμε βασίζεται \"<u>στην αναγνώριση μονών και ζυγών αριθμών στα δεκαδικά ψηφία (0,1,...,9) της MNIST</u>\". Για αυτό τον λόγο μετατρέπουμε τις ετικέτες, τη **1η με labels=0**\n",
    "(*για τα άρτια ψηφία*) και τη **2η με labels=1** (*για τα περιττά ψηφία*). Μάλιστα, μειώνεται το Dataset (γιατί αργούν πολύ οι κατηγοριοποιητές με όλο το Dataset, σύμφωνα με τις γνώσεις μας από την *ενδιάμεση εργασία*) στα πρώτα 7500 ψηφία του train_data και στα πρώτα 800 ψηφία του test_data!"
   ]
  },
  {
   "cell_type": "code",
   "execution_count": 4,
   "metadata": {
    "colab": {
     "base_uri": "https://localhost:8080/"
    },
    "id": "qc3odnFSReDr",
    "outputId": "311e6ed3-62ee-48bc-b9e8-ea492c96f3d0"
   },
   "outputs": [
    {
     "name": "stdout",
     "output_type": "stream",
     "text": [
      "Αριθμός άρτιων ψηφίων του μειωμένου train_data: 3682\n",
      "Αριθμός περιττών ψηφίων του μειωμένου train_data: 3818\n",
      "Αριθμός άρτιων ψηφίων του μειωμένου test_data: 387\n",
      "Αριθμός περιττών ψηφίων του μειωμένου test_data: 413\n"
     ]
    }
   ],
   "source": [
    "# Αλλαγή του τύπου δεδομένων των ετικετών σε ακέραιους\n",
    "train_labels = train_labels.astype(int)\n",
    "test_labels = test_labels.astype(int)\n",
    "\n",
    "# Αλλαγή των ετικετών για το train_data\n",
    "train_labels[(train_labels%2)==0] = 0\n",
    "train_labels[(train_labels%2)!=0] = 1\n",
    "\n",
    "# Αλλαγή των ετικετών για το test_data\n",
    "test_labels[(test_labels%2)==0] = 0\n",
    "test_labels[(test_labels%2)!=0] = 1\n",
    "\n",
    "# Μείωση του Dataset στα πρώτα 7500 ψηφία του train_data και στα πρώτα 800 ψηφία \n",
    "# του test_data (κυρίως γιατί όλο το Dataset είναι πολύ μεγάλο)\n",
    "train_data = train_data[:7500, :]\n",
    "test_data = test_data[:800, :]\n",
    "train_labels = train_labels[:7500]\n",
    "test_labels = test_labels[:800]\n",
    "\n",
    "# Κανονικοποιώ με StandardScaler() έτσι ώστε να μην έχω θέμα μετά στο SVM (με φανταστικούς \n",
    "# αριθμούς) και να μπορώ να κάνω σύγκριση με τους 2 παραπάνω κατηγοριοποιητές (KNN/NCC)\n",
    "train_data = StandardScaler().fit_transform(train_data)\n",
    "test_data = StandardScaler().fit_transform(test_data)\n",
    "\n",
    "# Ελέγχω την μοιρασιά (σε άρτιους και περιττούς) των 7500 πρώτων ψηφίων του μειωμένου \n",
    "# train_data\n",
    "print(\"Αριθμός άρτιων ψηφίων του μειωμένου train_data:\", len(train_data[train_labels==0]))\n",
    "print(\"Αριθμός περιττών ψηφίων του μειωμένου train_data:\", len(train_data[train_labels==1]))\n",
    "\n",
    "# Ελέγχω την μοιρασιά (σε άρτιους και περιττούς) των 800 πρώτων ψηφίων του μειωμένου \n",
    "# test_data\n",
    "print(\"Αριθμός άρτιων ψηφίων του μειωμένου test_data:\", len(test_data[test_labels==0]))\n",
    "print(\"Αριθμός περιττών ψηφίων του μειωμένου test_data:\", len(test_data[test_labels==1]))\n"
   ]
  },
  {
   "cell_type": "markdown",
   "metadata": {
    "id": "TFax6tmxZUP5"
   },
   "source": [
    "# 2 Ανάλυση Κύριων Συνιστωσών, **PCA** (*from sklearn* και *from scratch*)"
   ]
  },
  {
   "cell_type": "markdown",
   "metadata": {
    "id": "6F2jNkPjZc6Q"
   },
   "source": [
    "## 2.1 Συνάρτηση PCA (*from sklearn*)"
   ]
  },
  {
   "cell_type": "code",
   "execution_count": 5,
   "metadata": {
    "colab": {
     "base_uri": "https://localhost:8080/"
    },
    "id": "SHp21mX3rstn",
    "outputId": "8e7b7657-4756-4b37-c618-2113b2aa687c"
   },
   "outputs": [
    {
     "name": "stdout",
     "output_type": "stream",
     "text": [
      "Ελάχιστες Διαστάσεις για το train_data (κρατώντας το 90% της πληροφορίας): (7500, 192)\n",
      "Ελάχιστες Διαστάσεις για το test_data (κρατώντας το 90% της πληροφορίας): (800, 121)\n"
     ]
    }
   ],
   "source": [
    "# Ελάχιστες Διαστάσεις για το train_data (κρατώντας το 90% της πληροφορίας)\n",
    "pca = PCA(n_components=0.9)\n",
    "pca_train_data = pca.fit_transform(train_data)\n",
    "\n",
    "# Ελάχιστες Διαστάσεις για το test_data (κρατώντας το 90% της πληροφορίας)\n",
    "pca = PCA(n_components=0.9)\n",
    "pca_test_data = pca.fit_transform(test_data)\n",
    "\n",
    "# Εκτυπώνω τις τιμές έτσι ώστε να δω πως όλα πήγαν καλά!\n",
    "print(\"Ελάχιστες Διαστάσεις για το train_data (κρατώντας το 90% της πληροφορίας):\", pca_train_data.shape)\n",
    "print(\"Ελάχιστες Διαστάσεις για το test_data (κρατώντας το 90% της πληροφορίας):\", pca_test_data.shape)\n"
   ]
  },
  {
   "cell_type": "markdown",
   "metadata": {
    "id": "98QOrr6rjJtf"
   },
   "source": [
    "Σύμφωνα με την έτοιμη συνάρτηση από την sklearn καταλαβαίνουμε πως για το *train_data* πρέπει να πάρουμε τουλάχιστον <u>192 διαστάσεις</u> και για το *test_data* πρέπει να πάρουμε τουλάχιστον <u>121 διαστάσεις</u> (**έτσι ώστε να έχουμε τουλάχιστον το 90% της πληροφορίας**). Επομένως στην υλοποίηση *from scratch* επιλέγεται το **192** ως νέος μειωμένος αριθμός διαστάσεων(για να εξυπηρετηθούν σωστά και τα δύο)."
   ]
  },
  {
   "cell_type": "markdown",
   "metadata": {
    "id": "zWQ2oOqFk_UW"
   },
   "source": [
    "# 2.2 Συνάρτηση PCA (*from scratch*)\n",
    "\n",
    "Παρακάτω *δημιουργούμε* την συνάρτηση για να εφαρμόσουμε μείωση διαστάσεων στις χειρόγραφες εικόνες με τη χρήση της *Μεθόδου Ανάλυσης Πρωτευουσών Συνιστωσών* (**Principal Component Analysis** ή αλλίως **PCA**). Αρχικά, αφαιρείται ο αριθμητικός μέσος όλων των γραμμών από κάθε γραμμή, έτσι ώστε να κανονικοποιήσουμε τις μεταβλητές. Έπειτα, υπολογίζουμε τον πίνακα συνδιακύμανσης (*covariance matrix*), ώστε να κατανοήσουμε πως οι μεταβλητές ποικίλουν η μία με την άλλη από τον αριθμητικό μέσο και να δούμε αν υπάρχει μεταξύ τους κάποια σχέση. Ο πίνακας αυτός είναι συμμετρικός και έχει σαν καταχωρήσεις τις συνδιακυμάνσεις που σχετίζονται με όλα τα πιθανά ζευγάρια των αρχικών μεταβλητών. Η κύρια διαγώνιος ουσιαστικά περιέχει τη διασπορά όλων των μεταβλητών και επειδή οι καταχωρήσεις είναι συμμετρικές ως προς την κύρια διαγώνιο, ο άνω και κάτω τριγωνικός πίνακας είναι ίσοι. Το πρόσημο του πίνακα μας δείχνει πως σχετίζονται οι μεταβλητές μεταξύ τους. Μετέπειτα, υπολογίζονται οι ιδιοτιμές και τα ιδιοδιανύσματα του πίνακα συνδιασποράς, ώστε να οριστούν οι κύριες συνιστώσες. Τα ιδιοδιανύσματα του πίνακα ουσιαστικά αποτελούν τις κατευθύνσεις των αξόνων όπου υπάρχει η περισσότερη διασπορά, δηλαδή η περισσότερη πληροφορία, και οι ιδιοτιμές είναι οι συντελεστές των διανυσμάτων. Οπότε, ταξινομούμε με φθίνουσα σειρά τα ιδιοδιανύσματα με βάση τις ιδιοτιμές τους και έτσι παίρνουμε τις κύριες συνιστώσες με βάση τη σημαντικότητα τους. Έτσι, απο αυτές κρατάμε όποιες επιθυμούμε απο τις πρώτες. Aυτό το βήμα αποτελεί τον υπολογισμό του feature vector (πίνακα χαρακτηριστικών). Τέλος, πρέπει να προβάλλουμε τα δεδομένα στον άξονα των κυριών συνιστωσών, πολλαπλασιάζοντας τον πίνακα των αρχικών δεδομένων με τον πίνακα χαρακτηριστικών. Όσον αφορά το y, αφαιρείται από αυτό τον αριθμητικό μέσο του x και στη συνέχεια προλλαπλασιάζουμε τον πίνακα χαρακτηριστικών με τον πίνακα του y."
   ]
  },
  {
   "cell_type": "code",
   "execution_count": 6,
   "metadata": {
    "id": "KRcVermRZcdL"
   },
   "outputs": [],
   "source": [
    "# Συνάρτηση που πραγματοποιεί την Ανάλυση Κύριων Συνιστωσών (PCA).\n",
    "# x = train_data\n",
    "# y = test_data\n",
    "# d = Διαστάσεις στις οποίες θα μειωθούν τα train_data & test_data\n",
    "def PCA_2(x, y, d):\n",
    "    # Εύρεση του αριθμητικού μέσου στον πίνακα x\n",
    "    x_mean = np.mean(x, axis=0)\n",
    "    # Αφαίρεση του αριθμητικού μέσου όλων των γραμμών από κάθε γραμμή (για κανονικοποίηση)\n",
    "    x = x - x_mean\n",
    "    # Υπολογισμός Πίνακα Συνδιακύμανσης (ΠΡΟΣΟΧΗ: Θέλει Ανάστροφο Πίνακα γιατί η \n",
    "    # συνάρτηση cov() έχει τα χαρακτηριστικά στις στήλες και τα δείγματα στις γραμμές!)\n",
    "    cov = np.cov(x.T)\n",
    "    # Υπολογισμός Ιδιοτιμών και Ιδιοδιανυσμάτων του Πίνακα Συνδιακύμανσης\n",
    "    eigenvalues, eigenvectors = np.linalg.eig(cov)\n",
    "    # Υπολογισμός Ανάστροφων Ιδιοδιανυσμάτων (γιατί από συνάρτηση linalg.eig()\n",
    "    # επιστράφηκε ως Διάνυσμα Στήλης και όχι ως Ιδιοδιάνυσμα, v[:,i])\n",
    "    eigenvectors = eigenvectors.T\n",
    "    # Δεικτοδότηση των ταξινόμημένων Ιδιοτιμών σε φθίνουσα σειρά\n",
    "    indexes = np.argsort(eigenvalues)[::-1]\n",
    "    eigenvalues = eigenvalues[indexes]\n",
    "    eigenvectors = eigenvectors[indexes]\n",
    "    # Υπολογισμός του νέου πίνακα x, ο οποίος κρατάει τις d πιο σημαντικές τιμές\n",
    "    # του Ιδιοδιανύσματος\n",
    "    new_x = eigenvectors[0:d]\n",
    "    # Αφαίρεση του αριθμητικού μέσου και από τον πίνακα y\n",
    "    y = y - x_mean\n",
    "    # Προβολή του Ιδιοδιανύσματος μέσα στον χώρο του x (εφόσον αναστρέψουμε πάλι\n",
    "    # το x!)\n",
    "    pca_train = np.dot(x, new_x.T)\n",
    "    # Προβολή του Ιδιοδιανύσματος μέσα στον χώρο του y (εφόσον αναστρέψουμε πάλι\n",
    "    # το y!)\n",
    "    pca_test = np.dot(y, new_x.T)\n",
    "    return pca_train, pca_test\n"
   ]
  },
  {
   "cell_type": "code",
   "execution_count": 7,
   "metadata": {
    "colab": {
     "base_uri": "https://localhost:8080/"
    },
    "id": "iib2bjxYZ6ZC",
    "outputId": "888d4f81-047b-4280-d652-2b61347bc072"
   },
   "outputs": [
    {
     "name": "stdout",
     "output_type": "stream",
     "text": [
      "Ελάχιστες Διαστάσεις για το train_data (κρατώντας το 90% της πληροφορίας): (7500, 192)\n",
      "Ελάχιστες Διαστάσεις για το test_data (κρατώντας το 90% της πληροφορίας): (800, 192)\n"
     ]
    }
   ],
   "source": [
    "# Επιστροφή των δεδομένων μέσα από την συνάρτηση PCA (δηλαδή τις προβολές των\n",
    "# Ιδιοδιανυσμάτων για το pca_train & το pca_test)\n",
    "new_train_data, new_test_data = PCA_2(train_data, test_data, 192)\n",
    "\n",
    "# Εκτυπώνω τις τιμές έτσι ώστε να δω πως όλα πήγαν καλά!\n",
    "print(\"Ελάχιστες Διαστάσεις για το train_data (κρατώντας το 90% της πληροφορίας):\", new_train_data.shape)\n",
    "print(\"Ελάχιστες Διαστάσεις για το test_data (κρατώντας το 90% της πληροφορίας):\", new_test_data.shape)\n"
   ]
  },
  {
   "cell_type": "code",
   "execution_count": 8,
   "metadata": {
    "colab": {
     "base_uri": "https://localhost:8080/",
     "height": 265
    },
    "id": "WrWmEsWO0-O3",
    "outputId": "eec3b80e-d304-4169-906c-c0a6079e1a36"
   },
   "outputs": [
    {
     "data": {
      "image/png": "[encoded data removed]",
      "text/plain": [
       "<Figure size 432x288 with 1 Axes>"
      ]
     },
     "metadata": {
      "needs_background": "light"
     },
     "output_type": "display_data"
    }
   ],
   "source": [
    "# Οπτικοποίηση των δεδομένων μετά από την χρήση της μεθόδου PCA\n",
    "# Οι πίνακες T είναι πίνακες αληθείας που αναπαριστούν κάθε χειρόγραφο ψηφίο του Dataset\n",
    "T0 = train_labels == 0\n",
    "T1 = train_labels == 1\n",
    "\n",
    "# Τοποθέτηση των γραμμών κάθε πίνακα T σε έναν άλλο πίνακα (για την επαλήθευση του Dataset\n",
    "# και την οπτικοποίηση του)\n",
    "M0 = new_train_data[T0 == 1, :]\n",
    "M1 = new_train_data[T1 == 1, :]\n",
    "\n",
    "# Εξαγωγή μόνο του πραγματικού μέρους του Ιδιοδιανύσματος\n",
    "NM0 = M0.real\n",
    "NM1 = M1.real\n",
    "\n",
    "# Σχεδίαση των δεδομένων σε μια γραφική αναπαράσταση\n",
    "plt.scatter(NM0[:, 0], NM0[:, 1], marker=\"*\")\n",
    "plt.scatter(NM1[:, 0], NM1[:, 1], marker=\"*\")\n",
    "plt.show()"
   ]
  },
  {
   "cell_type": "markdown",
   "metadata": {
    "id": "i0pWq8cW9djj"
   },
   "source": [
    "Τελικά, εφαρμόζω την μέθοδο που υλοποιήθηκε *from scratch* στα παρακάτω γιατί θεωρώ πως λειτουργεί σωστά!"
   ]
  },
  {
   "cell_type": "markdown",
   "metadata": {
    "id": "SneQy3Ml1Sra"
   },
   "source": [
    "# 3 Χρήσιμες Μετρικές & Υλοποίηση/Σύκριση των 2 κατηγοριοποιητών."
   ]
  },
  {
   "cell_type": "markdown",
   "metadata": {
    "id": "Is4LCiCj1T07"
   },
   "source": [
    "## 3.1 Δημιουργία (*from scratch*) των 2 μετρικών που θα χρησιμοποιηθούν για την σύγκριση των 2 κατηγοριοποιητών (**KNN/NCC**).\n",
    "\n",
    "Επιλέγονται οι: α)*Μετρική της Ευκλείδειας Απόστασης* & η β)*Μετρική της Ακρίβειας*!"
   ]
  },
  {
   "cell_type": "code",
   "execution_count": 9,
   "metadata": {
    "id": "oLi5I9Cq1Y7p"
   },
   "outputs": [],
   "source": [
    "# Συνάρτηση που υπολογίζει την Ευκλείδεια Απόσταση\n",
    "def euclidean_distance(x1, x2):\n",
    "    return np.sqrt(np.sum((x1 - x2) ** 2))\n",
    "\n",
    "# Συνάρτηση που υπολογίζει την Ακρίβεια\n",
    "def accuracy(y_true, y_pred):\n",
    "    return np.sum(y_true == y_pred) / len(y_true)\n"
   ]
  },
  {
   "cell_type": "markdown",
   "metadata": {
    "id": "4TRQrF0hAm3q"
   },
   "source": [
    "## 3.2 Κατηγοριοποιητής Κ Πλησιέστερων Γειτόνων (*from scratch*)\n",
    "\n",
    "Ο Κατηγοριοποιητής Πλησιέστερων Γειτόνων είναι μία ιδιαίτερα διαδεδομένη επιβλεπόμενη μέθοδος. Αρχικά, ο αλγόριθμος δέχεται ως είσοδο τα σημεία τα οποία πρέπει να χρησιμοποιήσει για να λάβει μια μελλοντική απόφαση κατηγοριοποίησης, τις ετικέτες αυτών των σημείων, την παράμετρο Κ, καθώς και τα σημεία που καλείται να κατηγοριοποιήσει. Η παράμετρος Κ που αναφέρθηκε προηγουμένως καθορίζει το πλήθος των σημείων που εν τέλει θα επηρεάσουν την απόφαση που θα ληφθεί για ένα καινούργιο σημείο προς κατηγοριοποίηση. Η γενική ιδέα του κατηγοριοποιητή αυτού είναι η προσπάθεια να εκμεταλλευτεί την τοπικότητα η οποία χαρακτηρίζει τα δείγματα που ανήκουν στην ίδια κλάση για το εκάστοτε πρόβλημα, δηλαδή βασίζεται στο όσο πιο κοντά είναι τα σημεία θα είναι και τόσο πιο όμοια! Δεδομένου κάποιου συγκεκριμένου Κ (στην περίπτωσή μας 1 ή 3) υπολογίζονται οι αποστάσεις μεταξύ ενός δοσμένου σημείου και των σημείων του συνόλου δεδομένων, ταξινομούνται με φθίνουσα σειρά και παίρνονται οι ετικέτες των πρώτων Κ καταχωρήσεων. Τέλος, επιστρέφεται η πρόβλεψη για το σημείο αυτό. Όσον αφορά την απόσταση, χρησιμοποιείται η Ευκλείδια Απόσταση."
   ]
  },
  {
   "cell_type": "code",
   "execution_count": 10,
   "metadata": {
    "id": "ZXgI7Yjx1mqm"
   },
   "outputs": [],
   "source": [
    "# Κλάση του Κατηγοριοποιητή Κ Πλησιέστερων Γειτόνων\n",
    "class KNN:\n",
    "\n",
    "    def __init__(self, k):\n",
    "        self.k = k\n",
    "\n",
    "    def fit(self, X, y):\n",
    "        self.X_train = X\n",
    "        self.y_train = y\n",
    "\n",
    "    def predict(self, X):\n",
    "        y_pred = [self._predict(x) for x in X]\n",
    "        return np.array(y_pred)\n",
    "\n",
    "    def _predict(self, x):\n",
    "        # Υπολογισμός των αποστάσεων μεταξύ των x και όλων των παραδειγμάτων στο x_train\n",
    "        # μέσω της Ευκλείδειας απόστασης\n",
    "        distances = [euclidean_distance(x, x_train) for x_train in self.X_train]\n",
    "        # Ταξινόμηση μέσα από τις αποστάσεις και επιστροφή των δεικτών από τους k\n",
    "        # κοντινότερους γείτονες\n",
    "        k_idx = np.argsort(distances)[:self.k]\n",
    "        # Εύρεση ετικετών των k κοντινότερων γειτόνων του y_train\n",
    "        k_neighbor_labels = [self.y_train[i] for i in k_idx]\n",
    "        # Επιστροφή της πιο κοινής ετικέτας μιας κλάσης (από τα χειρόγραφα ψηφία)\n",
    "        most_common = Counter(k_neighbor_labels).most_common(1)\n",
    "        return most_common[0][0]\n"
   ]
  },
  {
   "cell_type": "markdown",
   "metadata": {
    "id": "4C5sU5a41tXZ"
   },
   "source": [
    "## 3.3 Κατηγοριοποιητής Πλησιέστερου Κέντρου (**NCC** *from scratch*)\n",
    "\n",
    "Ο Κατηγοριοποιητής Πλησιέστερου Κέντρου είναι μια μέθοδος που μοιάζει πολύ σε λογική με αυτή των Κ-μέσων. Ο αλγόριθμος δέχεται ως είσοδο τα σημεία τα οποία πρέπει να χρησιμοποιήσει για να λάβει μια μελλοντική απόφαση κατηγοριοποίησης, τις ετικέτες αυτών των σημείων, καθώς και τα σημεία που καλείται να κατηγοριοποιήσει. Η γενική ιδέα του κατηγοριοποιητή αυτού είναι η δημιουργία ενός κύκλου γύρω από κάθε κλάση ο οποίος έχει ως κέντρο του εχει το διάνυσμα με τις μέσες τιμές για κάθε χαρακτηριστικό του συνόλου των σημείων που συμμετέχουν στην κλάση αυτή, δηλαδή βασίζεται στο ότι δεδομένου ενός σημείου, του δίνει μία ετικέτα από τα δεδομένα εκπαίδευσης, ανάλογα με το ποιο κέντρο αυτών είναι κοντά του. Το κέντρο κάθε κλάσης υπολογίζεται στην εκπαίδευση. Μετά, δεδομένου ενός σημείου υπολογίζονται οι αποστάσεις από αυτό σε κάθε κέντρο κλάσης. Από όλες τις αποστάσεις επιλέγεται η μικρότερη και η ετικέτα κλάσης αυτού του κέντρου δίνεται στο σημείο."
   ]
  },
  {
   "cell_type": "code",
   "execution_count": 11,
   "metadata": {
    "id": "PQ3tI3Tf1s7H"
   },
   "outputs": [],
   "source": [
    "# Κλάση του Κατηγοριοποιητή Πλησιέστερου Κέντρου\n",
    "class NearestCentroid:\n",
    "    def __init__(self, images, labels):\n",
    "        self.images = images\n",
    "        self.labels = labels\n",
    "        self.num_images = len(images)\n",
    "\n",
    "    def fit(self):\n",
    "        classes = np.unique(self.labels)\n",
    "        self.classes = classes\n",
    "        centroids = np.empty((classes.shape[0], self.images.shape[1]))\n",
    "        label_to_image = []\n",
    "        for cl in classes:\n",
    "            img_label = []\n",
    "            for j in range(0, self.num_images):\n",
    "                if self.labels[j] == cl:\n",
    "                    img_label.append(self.images[j])\n",
    "            label_to_image.append(img_label)\n",
    "        for i in range(0, len(classes)):\n",
    "            centroids[i] = np.mean(label_to_image[i], axis=0)\n",
    "        self.centroids = centroids\n",
    "\n",
    "    def predict(self, images):\n",
    "        classified = []\n",
    "        for image in images:\n",
    "            smallest_dist = 99999999\n",
    "            cl = None\n",
    "            for i, centroid in enumerate(self.centroids):\n",
    "                dist = np.sqrt(np.sum((image - centroid) ** 2))\n",
    "                if dist < smallest_dist:\n",
    "                    smallest_dist = dist\n",
    "                    cl = i\n",
    "            classified.append([cl])\n",
    "        return classified\n"
   ]
  },
  {
   "cell_type": "markdown",
   "metadata": {
    "id": "phgLMSs013ho"
   },
   "source": [
    "# 4 Σύγκριση των 2 κατηγοριοποιητών (**KNN/NCC**).\n",
    "\n",
    "Παρακάτω συγκρίνω τους 2 κατηγοριοποιητές, **KNN** & **NCC** (μετά από την μετατροπή των συνιστωσών μέσα από το **PCA** της *sklearn*)!"
   ]
  },
  {
   "cell_type": "code",
   "execution_count": 12,
   "metadata": {
    "colab": {
     "base_uri": "https://localhost:8080/"
    },
    "id": "WG4lup7I14R8",
    "outputId": "a593e2d7-c7eb-4d74-c55b-18aff8e9723e"
   },
   "outputs": [
    {
     "name": "stdout",
     "output_type": "stream",
     "text": [
      "Προβέψεις για τον KNN (με 1 γείτονα): [1 0 1 0 0 1 0 0 1 1 0 0 1 0 1 1 1 1 1 0 1 0 0 1 0 0 1 0 0 1 1 1 1 0 1 0 1\n",
      " 1 1 1 1 1 0 0 1 1 1 0 0 0 0 1 1 1 0 0 0 1 1 1 1 0 1 1 1 1 0 0 1 0 1 0 0 1\n",
      " 1 1 1 0 1 1 1 0 0 1 0 0 1 1 0 1 1 0 0 1 1 0 1 1 0 1 0 0 1 0 1 1 0 1 1 0 0\n",
      " 1 1 1 1 1 0 0 1 0 1 0 1 0 1 1 0 1 0 1 0 0 1 1 0 1 0 1 0 0 0 1 1 1 1 1 0 0\n",
      " 0 0 1 0 1 1 1 1 0 0 1 0 0 0 1 0 0 0 0 1 1 0 0 1 0 1 0 1 1 0 1 0 1 0 1 0 0\n",
      " 1 0 0 0 1 1 1 0 1 0 0 1 0 0 0 1 0 1 1 1 1 1 1 0 1 0 1 1 1 1 0 1 1 1 1 1 0\n",
      " 0 1 1 0 0 0 1 1 1 1 0 0 1 1 0 0 0 1 1 1 0 1 1 0 0 0 0 0 0 1 1 1 1 1 0 1 0\n",
      " 0 0 1 1 1 0 1 1 1 0 0 1 0 1 1 1 0 1 0 0 1 0 1 1 1 1 0 0 1 1 1 1 0 1 0 0 0\n",
      " 0 0 0 0 1 1 1 0 0 0 0 1 0 1 1 0 0 1 1 1 0 1 0 0 1 1 1 1 0 0 0 0 1 1 1 0 1\n",
      " 1 1 0 1 1 0 0 1 0 1 1 0 1 0 1 1 1 1 1 1 0 1 0 1 1 0 0 0 0 1 0 1 0 0 0 0 1\n",
      " 1 0 0 0 0 0 0 1 1 0 0 1 1 1 0 1 0 0 1 1 0 0 0 1 1 1 0 1 0 0 0 0 1 0 0 0 1\n",
      " 0 1 1 1 1 1 1 1 1 1 1 0 1 0 0 1 0 0 0 1 1 0 0 1 1 0 1 1 0 0 1 1 0 0 0 1 0\n",
      " 0 0 0 0 0 1 1 1 0 1 1 1 0 0 0 0 1 0 0 0 1 0 0 0 1 1 0 1 0 1 0 0 1 0 1 0 1\n",
      " 1 1 0 0 0 0 1 1 1 0 1 0 1 1 0 1 0 0 0 1 1 0 0 1 1 1 1 0 1 1 0 0 0 0 1 0 0\n",
      " 1 0 0 0 1 1 1 0 1 0 1 1 0 1 0 0 0 0 0 1 0 0 1 0 0 0 0 0 0 0 1 0 1 1 0 0 1\n",
      " 0 0 1 1 0 1 0 0 0 0 0 0 0 0 1 1 1 0 1 1 1 1 1 0 1 0 0 0 1 1 1 0 0 1 0 1 0\n",
      " 0 1 0 1 0 0 1 1 0 0 0 0 1 1 0 0 0 0 0 0 0 0 1 1 1 1 1 1 0 0 0 0 0 0 1 0 1\n",
      " 0 1 0 0 0 1 1 1 1 1 1 1 0 0 0 0 1 0 1 1 1 0 1 1 0 0 0 0 1 1 0 0 0 1 1 0 0\n",
      " 1 1 0 1 0 1 1 1 1 1 1 1 1 1 0 1 1 1 1 0 1 1 0 1 1 0 1 0 1 1 1 0 0 1 1 0 1\n",
      " 1 0 1 1 1 0 0 1 1 0 0 0 0 1 0 0 0 1 0 0 0 0 1 1 1 0 0 1 0 0 1 1 1 0 0 0 1\n",
      " 1 0 0 0 0 1 1 1 0 1 0 1 0 1 1 1 1 0 1 1 1 0 0 0 0 0 0 1 1 0 0 1 1 1 0 0 0\n",
      " 1 1 1 1 0 1 1 0 1 0 0 1 0 1 1 1 0 0 1 0 0 1 0]\n",
      "Ακρίβεια για τον KNN: (με 1 γείτονα) 94.25 %\n",
      "Χρόνος: 53.944845629999975 δευτερόλεπτα\n"
     ]
    }
   ],
   "source": [
    "start = timeit.default_timer()\n",
    "clf = KNN(k=1)\n",
    "clf.fit(new_train_data, train_labels)\n",
    "predictions = clf.predict(new_test_data)\n",
    "print(\"Προβέψεις για τον KNN (με 1 γείτονα):\", predictions)\n",
    "# Εύρεση της Ακρίβειας (με βάση την Εκατονταβάθμια Κλίμακα)\n",
    "print(\"Ακρίβεια για τον KNN: (με 1 γείτονα)\", format(accuracy(test_labels, predictions) * 100, \".2f\"), \"%\")\n",
    "stop = timeit.default_timer()\n",
    "print('Χρόνος:', stop - start, 'δευτερόλεπτα')\n"
   ]
  },
  {
   "cell_type": "code",
   "execution_count": 13,
   "metadata": {
    "colab": {
     "base_uri": "https://localhost:8080/"
    },
    "id": "Ci62R_V62O0s",
    "outputId": "ad5f2755-dde9-421c-b0b4-6108158f39e4"
   },
   "outputs": [
    {
     "name": "stdout",
     "output_type": "stream",
     "text": [
      "Προβέψεις για τον KNN (με 3 γείτονες): [1 0 1 0 0 1 0 1 1 1 0 0 1 0 1 1 1 1 1 0 1 0 0 1 0 0 1 0 0 1 1 1 1 0 1 0 1\n",
      " 1 0 1 1 1 0 0 1 1 1 0 0 0 0 1 1 1 0 0 0 1 1 1 1 0 1 1 1 0 0 0 1 0 1 0 0 1\n",
      " 1 1 1 0 1 1 1 0 0 1 0 0 1 1 0 1 1 0 1 1 1 0 1 1 0 1 0 0 1 0 1 1 0 1 1 0 0\n",
      " 1 1 1 1 1 0 0 1 0 1 0 1 0 1 1 0 1 0 1 0 0 1 1 0 1 0 1 0 0 0 1 1 1 1 1 0 0\n",
      " 0 0 1 1 1 1 1 1 0 0 1 0 0 0 1 0 0 1 0 1 1 0 0 1 0 1 0 1 1 0 1 0 1 0 1 0 0\n",
      " 1 0 0 0 1 1 1 0 0 0 0 1 0 0 0 1 0 1 1 1 1 1 0 0 1 0 1 1 1 1 0 1 1 1 1 1 0\n",
      " 0 1 1 0 0 0 1 1 1 1 0 0 1 1 0 0 0 1 1 0 0 1 1 1 0 0 0 0 1 1 1 1 1 1 0 1 0\n",
      " 0 0 1 1 1 1 1 0 1 0 0 1 0 1 1 1 0 1 0 0 1 0 1 1 1 1 0 0 0 1 1 0 0 1 0 0 0\n",
      " 0 0 0 0 1 1 1 0 0 0 0 1 0 1 1 0 0 1 1 1 0 1 0 1 1 1 1 1 1 0 0 0 1 1 1 0 1\n",
      " 1 1 0 1 1 0 0 1 0 1 1 0 1 0 1 1 1 1 1 0 0 1 0 1 1 0 1 0 0 1 0 1 0 0 0 0 1\n",
      " 1 0 0 0 0 0 1 1 1 0 0 1 1 1 0 1 0 1 1 1 0 0 0 1 1 1 0 1 0 0 0 0 1 0 0 0 1\n",
      " 0 1 1 1 1 1 1 1 1 1 1 0 1 0 0 1 0 0 0 1 1 0 0 1 0 0 1 1 0 0 1 1 0 0 0 1 0\n",
      " 0 0 0 0 0 1 1 1 0 1 1 1 0 0 0 0 1 0 0 0 1 0 0 0 1 1 0 1 0 1 0 0 1 0 1 0 1\n",
      " 1 1 1 0 0 0 1 1 1 0 1 0 1 1 0 1 0 0 0 1 1 1 0 1 1 1 1 0 1 1 0 0 0 0 1 0 0\n",
      " 1 0 0 1 1 1 1 0 1 0 1 1 0 0 0 0 0 0 0 1 0 0 1 0 1 0 0 0 0 0 1 0 1 1 0 1 1\n",
      " 0 0 1 1 0 1 0 1 0 0 0 0 0 0 1 1 1 0 1 1 1 1 1 0 1 0 0 0 0 1 1 0 0 1 0 1 0\n",
      " 0 1 0 1 0 0 1 1 0 0 0 0 1 1 0 0 0 0 0 0 0 0 1 1 1 1 1 1 0 0 0 0 0 0 1 0 1\n",
      " 0 1 0 0 0 1 1 1 1 1 1 1 0 0 0 0 1 0 1 1 1 0 1 1 0 0 0 0 1 1 0 0 0 1 1 0 0\n",
      " 1 1 0 1 0 1 1 1 1 1 1 1 1 1 0 1 1 1 1 0 1 1 0 1 1 0 1 0 1 1 1 0 0 1 1 0 1\n",
      " 1 0 1 1 0 0 0 1 1 0 0 0 0 1 0 0 0 1 0 0 0 0 1 1 0 0 0 1 0 0 1 1 1 0 0 0 1\n",
      " 1 0 0 0 0 1 1 1 0 1 0 1 0 1 1 1 1 0 1 1 1 0 0 0 0 0 0 1 1 0 0 1 1 1 0 0 0\n",
      " 1 1 1 0 0 1 1 0 1 0 0 1 0 1 1 1 0 0 1 0 1 1 0]\n",
      "Ακρίβεια για τον KNN: (με 3 γείτονες) 95.25 %\n",
      "Χρόνος: 49.25807146 δευτερόλεπτα\n"
     ]
    }
   ],
   "source": [
    "start = timeit.default_timer()\n",
    "clf = KNN(k=3)\n",
    "clf.fit(new_train_data, train_labels)\n",
    "predictions = clf.predict(new_test_data)\n",
    "print(\"Προβέψεις για τον KNN (με 3 γείτονες):\", predictions)\n",
    "# Εύρεση της Ακρίβειας (με βάση την Εκατονταβάθμια Κλίμακα)\n",
    "print(\"Ακρίβεια για τον KNN: (με 3 γείτονες)\", format(accuracy(test_labels, predictions) * 100, \".2f\"), \"%\")\n",
    "stop = timeit.default_timer()\n",
    "print('Χρόνος:', stop - start, 'δευτερόλεπτα')\n"
   ]
  },
  {
   "cell_type": "code",
   "execution_count": 14,
   "metadata": {
    "colab": {
     "base_uri": "https://localhost:8080/"
    },
    "id": "1hPSqUwg2PfZ",
    "outputId": "e4641558-6223-4115-aea3-ee7326898d6c"
   },
   "outputs": [
    {
     "name": "stdout",
     "output_type": "stream",
     "text": [
      "Προβέψεις για τον NCC: [1 0 1 0 0 1 1 1 0 1 0 0 1 0 1 0 0 1 0 1 1 0 0 1 1 0 1 0 0 1 1 1 1 0 1 0 1\n",
      " 1 1 1 1 1 1 0 1 1 1 0 0 0 0 0 1 1 0 0 0 1 1 1 1 0 1 1 1 1 0 0 1 0 1 0 0 1\n",
      " 1 1 1 1 1 1 1 0 0 1 1 0 1 1 0 1 1 0 1 1 1 0 1 1 0 0 0 0 1 0 1 1 0 1 1 0 0\n",
      " 1 1 1 1 1 1 0 1 0 0 0 1 0 1 1 0 1 1 1 0 0 0 0 1 1 0 1 0 0 0 1 1 1 1 1 0 0\n",
      " 0 0 0 0 1 1 1 0 0 0 1 1 1 0 0 0 0 0 0 1 1 1 1 1 0 1 0 1 1 1 1 0 1 0 1 0 0\n",
      " 0 0 1 0 1 1 1 0 1 0 1 1 0 1 0 0 0 1 1 1 1 1 1 0 1 1 1 1 1 1 0 1 0 1 1 1 0\n",
      " 0 1 1 0 1 1 1 1 1 1 0 1 1 1 1 0 0 1 1 0 0 1 1 0 0 0 0 0 1 1 1 1 1 1 1 1 0\n",
      " 0 0 1 1 1 1 1 0 1 0 0 1 0 1 1 1 0 1 1 0 1 0 0 1 1 0 0 0 0 1 1 1 0 1 0 0 1\n",
      " 0 0 0 1 1 1 1 1 1 0 0 1 1 1 1 0 0 0 1 0 0 1 0 0 1 1 1 1 0 1 0 0 1 1 1 1 1\n",
      " 1 1 1 1 1 0 0 1 1 1 0 1 1 0 1 1 1 1 0 0 0 1 0 1 1 1 1 0 0 1 0 1 0 0 1 0 1\n",
      " 1 0 0 1 1 1 1 1 1 0 0 1 1 1 0 1 0 1 1 1 0 0 0 1 1 0 0 1 0 0 0 1 0 1 1 0 0\n",
      " 0 0 1 1 1 1 1 1 1 1 1 0 1 1 0 1 0 0 0 1 1 0 1 1 1 1 1 1 1 1 1 1 0 0 0 1 1\n",
      " 0 0 0 0 1 0 1 1 1 0 1 1 1 0 1 0 1 0 0 0 1 1 0 1 0 1 1 1 0 1 0 0 1 0 0 1 1\n",
      " 1 1 1 1 0 1 1 1 1 0 1 0 0 1 0 1 1 0 1 1 0 1 0 1 1 1 1 0 1 1 1 1 0 0 1 0 0\n",
      " 1 1 1 1 1 1 1 0 1 0 1 1 1 1 0 0 0 0 1 1 1 0 1 0 1 1 0 0 0 0 1 0 1 1 0 0 1\n",
      " 0 0 1 1 0 1 0 1 1 0 1 1 0 0 1 1 1 1 1 1 1 1 1 1 1 1 0 1 0 1 1 0 0 0 1 0 1\n",
      " 0 1 0 1 0 0 1 1 0 0 0 1 1 1 0 0 0 1 0 0 0 1 1 0 1 1 1 1 0 1 0 0 1 0 1 1 1\n",
      " 0 1 0 0 0 1 0 1 1 1 1 1 0 0 0 0 0 0 1 1 1 0 1 1 1 0 0 0 1 0 1 0 1 1 1 0 0\n",
      " 1 1 1 1 1 0 1 0 0 1 1 0 0 1 0 1 1 1 1 0 1 1 0 1 0 1 1 1 1 1 1 0 0 1 1 0 1\n",
      " 1 0 1 1 1 1 0 0 0 0 0 1 0 1 0 1 0 0 0 0 0 0 1 1 1 1 0 1 0 0 1 1 1 0 0 0 0\n",
      " 1 1 0 0 0 1 1 1 0 1 0 0 0 1 1 1 1 1 1 1 1 1 0 0 0 1 0 1 1 0 0 1 1 1 1 0 0\n",
      " 1 0 1 0 1 1 1 0 1 0 1 1 0 1 1 1 1 0 1 0 1 1 0]\n",
      "Ακρίβεια για τον NCC: 79.50 %\n",
      "Χρόνος: 0.0349092420000261 δευτερόλεπτα\n"
     ]
    }
   ],
   "source": [
    "start = timeit.default_timer()\n",
    "clf = NearestCentroid(new_train_data, train_labels)\n",
    "clf.fit()\n",
    "predictions = clf.predict(new_test_data)\n",
    "predictions = np.array(predictions)\n",
    "predictions = predictions.flatten()\n",
    "print(\"Προβέψεις για τον NCC:\", predictions)\n",
    "# Εύρεση της Ακρίβειας (με βάση την Εκατονταβάθμια Κλίμακα)\n",
    "print(\"Ακρίβεια για τον NCC:\", format(accuracy(test_labels, predictions)*100, \".2f\"), \"%\")\n",
    "stop = timeit.default_timer()\n",
    "print('Χρόνος:', stop - start, 'δευτερόλεπτα')\n"
   ]
  },
  {
   "cell_type": "markdown",
   "metadata": {
    "id": "g7Q3QV7x4MqI"
   },
   "source": [
    "# 5 Μηχανές Διανυσμάτων Υποστήριξης (**SVM**)"
   ]
  },
  {
   "cell_type": "markdown",
   "metadata": {
    "id": "lcNTs8nzMlDs"
   },
   "source": [
    "Οι *Μηχανές Διανυσμάτων Υποστήριξης* (**SVM**) θεωρούνται μια προσέγγιση ταξινόμησης, αλλά μπορούν να χρησιμοποιηθούν τόσο σε προβλήματα ταξινόμησης όσο και σε προβλήματα παλινδρόμησης. Μπορούν εύκολα να χειριστούν πολλαπλές συνεχείς και κατηγορικές μεταβλητές. Επίσης, το *SVM* κατασκευάζει ένα υπερεπίπεδο σε πολυδιάστατο χώρο για να διαχωρίσει διαφορετικές κλάσεις. Μάλιστα, δημιουργεί το βέλτιστο υπερεπίπεδο με επαναληπτικό τρόπο, ο οποίος χρησιμοποιείται για την ελαχιστοποίηση ενός σφάλματος. Η βασική ιδέα του *SVM* είναι να βρει ένα μέγιστο *Margin* που διαιρεί καλύτερα το σύνολο δεδομένων σε κλάσεις.\n",
    "\n",
    "**Διανύσματα υποστήριξης**(*Support Vectors*): Τα διανύσματα υποστήριξης είναι τα σημεία δεδομένων που βρίσκονται πιο κοντά στο υπερεπίπεδο. Αυτά τα σημεία θα καθορίσουν καλύτερα τη διαχωριστική γραμμή υπολογίζοντας τα περιθώρια. Επίσης, σχετίζονται περισσότερο με την κατασκευή του *Margin*.\n",
    "\n",
    "**Περιθώριο**(*Margin*): Ένα περιθώριο είναι ένα κενό μεταξύ των δύο γραμμών στα πλησιέστερα σημεία κατηγορίας. Αυτό υπολογίζεται ως η κάθετη απόσταση από την ευθεία σε διανύσματα στήριξης ή στα πλησιέστερα σημεία. Εάν το περιθώριο είναι μεγαλύτερο μεταξύ των κατηγοριών τότε θεωρείται καλό περιθώριο ενώ ένα μικρότερο περιθώριο θεωρείται κακό.\n",
    "\n",
    "Παρακάτω θα προσπαθήσουμε να βρούμε τον καλύτερο kernel ανάμεσα σε 4 (**linear, poly, rbf & sigmoid**).\n",
    "\n",
    "Η κύρια λειτουργία του πυρήνα (*kernel*) είναι να μετατρέψει τα δεδομένα εισόδου δεδομένων στην απαιτούμενη μορφή. Υπάρχουν διάφοροι τύποι συναρτήσεων όπως *Γραμμική*, *Πολυωνυμική*,*Γκαουσιανή*,*Σιγμοειδής* κτλ. Το πολυώνυμο, το RBF και η σιγμοειδής είναι χρήσιμα για μη γραμμικό υπερεπίπεδο. Μάλιστα, οι πυρήνες πολυωνύμων και RBF υπολογίζουν τη γραμμή διαχωρισμού στην υψηλότερη διάσταση. Σε ορισμένες από τις εφαρμογές, προτείνεται η χρήση ενός πιο σύνθετου πυρήνα για τον διαχωρισμό των κλάσεων που είναι καμπύλες ή μη γραμμικές. Αυτός ο μετασχηματισμός μπορεί να οδηγήσει σε πιο ακριβείς ταξινομητές."
   ]
  },
  {
   "cell_type": "code",
   "execution_count": 15,
   "metadata": {
    "colab": {
     "base_uri": "https://localhost:8080/"
    },
    "id": "TyoteQdy5DqE",
    "outputId": "45197571-041f-45ab-9924-6aa29ea6d1da"
   },
   "outputs": [
    {
     "name": "stdout",
     "output_type": "stream",
     "text": [
      "Fitting 2 folds for each of 4 candidates, totalling 8 fits\n",
      "0.9534666666666667\n",
      "{'kernel': 'rbf'}\n"
     ]
    }
   ],
   "source": [
    "param_grid = { \"kernel\" : ['linear', 'poly', 'rbf', 'sigmoid']}\n",
    "clf = SVC()\n",
    "\n",
    "gs = GridSearchCV(estimator=clf, param_grid=param_grid, scoring='accuracy', cv=2, n_jobs=-1, verbose=1)\n",
    "gs = gs.fit(new_train_data, train_labels)\n",
    "\n",
    "print(gs.best_score_)\n",
    "print(gs.best_params_)\n"
   ]
  },
  {
   "cell_type": "markdown",
   "metadata": {
    "id": "jlqGSxzKRaxb"
   },
   "source": [
    "Παρατηρούμε πως ο καλύτερος kernel είναι ο **rbf**! Άρα, τον χρησιμοποιούμε για το βέλτιστο μοντέλο. Τώρα χρειάζεται να βρούμε τις καλύτερες παραμέτρους ως προς το **C** & και το **gamma**!\n",
    "\n",
    "**C**: Xρησιμοποιείται για τη διατήρηση της κανονικοποίησης. Εδώ το *C* είναι η παράμετρος ποινής, η οποία αντιπροσωπεύει την εσφαλμένη ταξινόμηση ή τον όρο σφάλματος. Ο όρος λανθασμένη ταξινόμηση ή σφάλμα λέει στo *SVM* πόσο ανεκτό πρέπει να είναι ένα σφάλμα. Αυτός είναι ο τρόπος με τον οποίο μπορούμε να ελέγξουμε την αντιστάθμιση μεταξύ του ορίου απόφασης και του όρου εσφαλμένης ταξινόμησης. Μια μικρότερη τιμή του *C* δημιουργεί ένα υπερεπίπεδο μικρού περιθωρίου ενώ μια μεγαλύτερη τιμή του *C* δημιουργεί ένα υπερεπίπεδο μεγαλύτερου περιθωρίου.\n",
    "\n",
    "**Gamma**: Μια χαμηλότερη τιμή *Gamma* θα ταιριάζει χαλαρά στο σύνολο δεδομένων εκπαίδευσης, ενώ μια υψηλότερη τιμή γάμμα ταιριάζει ακριβώς στο σύνολο δεδομένων εκπαίδευσης, γεγονός που προκαλεί υπερβολική προσαρμογή. Με άλλα λόγια, μπορούμε να πούμε ότι μια χαμηλή τιμή *Gamma* λαμβάνει υπόψη μόνο τα κοντινά σημεία στον υπολογισμό της γραμμής διαχωρισμού, ενώ μια υψηλή τιμή *Gamma* λαμβάνει υπόψη όλα τα σημεία δεδομένων στον υπολογισμό της γραμμής διαχωρισμού."
   ]
  },
  {
   "cell_type": "code",
   "execution_count": 16,
   "metadata": {
    "colab": {
     "base_uri": "https://localhost:8080/"
    },
    "id": "NzHfZK0wTAZP",
    "outputId": "da9fc896-a92a-4375-f622-ee7d325cd94f"
   },
   "outputs": [
    {
     "name": "stdout",
     "output_type": "stream",
     "text": [
      "Fitting 2 folds for each of 49 candidates, totalling 98 fits\n",
      "0.96\n",
      "{'C': 10, 'gamma': 0.001}\n"
     ]
    }
   ],
   "source": [
    "param_grid = {\"C\":[0.001, 0.01, 0.1, 1, 10, 100, 1000]\n",
    "              , \"gamma\":[0.001, 0.01, 0.1, 1, 10, 100, 1000]}\n",
    "\n",
    "clf = SVC(kernel='rbf')\n",
    "gs = GridSearchCV(estimator=clf, param_grid=param_grid, scoring='accuracy', cv=2, n_jobs=-1, verbose=1)\n",
    "gs = gs.fit(new_train_data, train_labels)\n",
    "\n",
    "print(gs.best_score_)\n",
    "print(gs.best_params_)"
   ]
  },
  {
   "cell_type": "markdown",
   "metadata": {
    "id": "EnGDJ_xDT2Ha"
   },
   "source": [
    "Τώρα θα δημιουργήσουμε το βέλτιστο **SVM** (για το πρόβλημα μας) και θα το χρησιμοποιήσουμε για να κάνει πρόβλεψη στα δεδομένα της *MNIST*."
   ]
  },
  {
   "cell_type": "code",
   "execution_count": 17,
   "metadata": {
    "colab": {
     "base_uri": "https://localhost:8080/"
    },
    "id": "a2fepsdGYBPv",
    "outputId": "4e8973b3-4128-4f16-be06-1f46a72d6a54"
   },
   "outputs": [
    {
     "name": "stdout",
     "output_type": "stream",
     "text": [
      "Ακρίβεια για το SVM με τις καλύτερες παραμέτρους: 0.96125\n",
      "Training time (seconds):  1.6411144780000768\n"
     ]
    }
   ],
   "source": [
    "start = timeit.default_timer()\n",
    "best_clf = SVC(kernel='rbf', C=10, gamma=0.001)\n",
    "best_clf.fit(new_train_data, train_labels)\n",
    "stop = timeit.default_timer()\n",
    "\n",
    "print(\"Ακρίβεια για το SVM με τις καλύτερες παραμέτρους:\", best_clf.score(new_test_data, test_labels))\n",
    "print('Training time (seconds): ', stop - start)"
   ]
  },
  {
   "cell_type": "markdown",
   "metadata": {
    "id": "MjI2LL7eXmF2"
   },
   "source": [
    "Παρατηρούμε ότι το μοντέλο μας έχει περίπου 96% ακρίβεια στα test δεδομένα μας. Σύμφωνα με τους 2 κατηγοριοποιητές (1 & 3 γείτονες για τον *KNN* και τον *NCC*) καταλαβαίνουμε ότι το **SVM** <u>τα πηγαίνει καλύτερα από όλα</u> (έστω και για ελάχιστη διαφορά σε μερικά)!"
   ]
  },
  {
   "cell_type": "code",
   "execution_count": 18,
   "metadata": {
    "colab": {
     "base_uri": "https://localhost:8080/",
     "height": 208
    },
    "id": "-QVMXw0cX4_5",
    "outputId": "23e883ef-9780-42d6-a57a-514f65f7cfba"
   },
   "outputs": [
    {
     "data": {
      "text/plain": [
       "array([[373,  14],\n",
       "       [ 17, 396]])"
      ]
     },
     "metadata": {},
     "output_type": "display_data"
    },
    {
     "name": "stdout",
     "output_type": "stream",
     "text": [
      "              precision    recall  f1-score   support\n",
      "\n",
      "           0       0.96      0.96      0.96       387\n",
      "           1       0.97      0.96      0.96       413\n",
      "\n",
      "    accuracy                           0.96       800\n",
      "   macro avg       0.96      0.96      0.96       800\n",
      "weighted avg       0.96      0.96      0.96       800\n",
      "\n"
     ]
    }
   ],
   "source": [
    "y_pred = best_clf.predict(new_test_data)\n",
    "matrix = confusion_matrix(test_labels, y_pred)\n",
    "display(matrix)\n",
    "\n",
    "print(classification_report(test_labels, y_pred))"
   ]
  },
  {
   "cell_type": "code",
   "execution_count": 19,
   "metadata": {
    "colab": {
     "base_uri": "https://localhost:8080/",
     "height": 350
    },
    "id": "jokhexilfEBW",
    "outputId": "54fadef6-8b55-49d7-81be-2a8f4ff265c5"
   },
   "outputs": [
    {
     "data": {
      "image/png": "[encoded data removed]",
      "text/plain": [
       "<Figure size 720x360 with 2 Axes>"
      ]
     },
     "metadata": {
      "needs_background": "light"
     },
     "output_type": "display_data"
    }
   ],
   "source": [
    "plt.rcParams[\"figure.figsize\"] = (10,5)\n",
    "ax = plt.subplot()\n",
    "sns.heatmap(matrix, annot=True, cmap='Greens', fmt='g', ax=ax);\n",
    "ax.set_title('Confusion Matrix');\n",
    "ax.set_xlabel('Predicted labels');\n",
    "ax.set_ylabel('True labels');\n",
    "ax.xaxis.set_ticklabels(['0', '1']);\n",
    "ax.yaxis.set_ticklabels(['0', '1']);"
   ]
  }
 ],
 "metadata": {
  "accelerator": "GPU",
  "colab": {
   "provenance": []
  },
  "gpuClass": "standard",
  "kernelspec": {
   "display_name": "Python 3 (ipykernel)",
   "language": "python",
   "name": "python3"
  },
  "language_info": {
   "codemirror_mode": {
    "name": "ipython",
    "version": 3
   },
   "file_extension": ".py",
   "mimetype": "text/x-python",
   "name": "python",
   "nbconvert_exporter": "python",
   "pygments_lexer": "ipython3",
   "version": "3.9.7"
  }
 },
 "nbformat": 4,
 "nbformat_minor": 1
}
