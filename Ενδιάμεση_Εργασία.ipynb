{
 "cells": [
  {
   "cell_type": "markdown",
   "metadata": {
    "id": "PFRb-EQtnNYF"
   },
   "source": [
    "# **Ενδιάμεση Εργασία** / *Σωτήριος-Λουκάς Καμπύλης, <u>ΑΕΜ:3805</u>*"
   ]
  },
  {
   "cell_type": "markdown",
   "metadata": {
    "id": "Z8dsCva9b06G"
   },
   "source": [
    "## Γενικές Οδηγίες (*για το Dataset της MNIST*):\n",
    "\n",
    "Για τις ανάγκες αυτής της εργασίας χρησιμοποιήθηκε το σύνηθες *Dataset* της **MNIST** με τα *χειρόγραφα ψηφία*, το οποίο φορτώθηκε από το *keras*. Οι εικόνες αποτελούνται από **784 pixels** (ή αλλιώς **28x28**). Η βάση περιέχει **60.000** εικόνες χειρόγραφων ψηφίων με σκοπό την χρήση τους στην εκπαίδευση (*train*) και **10.000** για τον έλεγχο της ποιότητας της εκπαίδευσης (*test*). Επίσης, παρέχονται και οι αντίστοιχες ετικέτες (*labels*), οι οποίες υποδεικνύουν το ψηφίο το οποίο απεικονίζεται στην εκάστοτε εικόνα. Σκοπός και κύριος στόχος της συγκεκριμένης εργασίας είναι: η υλοποίηση (*from scratch*) της μεθόδου PCA και η σύγκριση της απόδοσης του *κατηγοριοποιητή πλησιέστερου γείτονα/KNN* (με 1 και 3 πλησιέστερους γείτονες) με τον *κατηγοριοποιητή πλησιέστερου κέντρου/NCC* στην βάση δεδομένων της MNIST."
   ]
  },
  {
   "cell_type": "markdown",
   "metadata": {
    "id": "B0SxrkXNbA0c"
   },
   "source": [
    "# 1.Εισαγωγή, Φόρτωση & Επεξεργασία των Δεδομένων"
   ]
  },
  {
   "cell_type": "markdown",
   "metadata": {
    "id": "9Kz5dne2c5Jl"
   },
   "source": [
    "## 1.1 Εισαγωγή Απαραίτητων Βιβλιοθηκών\n",
    "\n",
    "Παρακάτω εισάγονται οι απαραίτητες βιβλιοθήκες για να τρέξει ο υπόλοιπος κώδικας. Αυτές κρίνονται απαραίτητες για τους αλγορίθμους των 2 κατηγοριοποιητών (*κατηγοριοποιητή πλησιέστερου γείτονα με 1 και 3 πλησιέστερους γείτονες* ή αλλιώς K-Nearest Neighbors, **KNN** / *κατηγοριοποιητή πλησιέστερου κέντρου* ή αλλιώς Nearest Class Centroid Method, **NCC**). Μάλιστα, χρησιμοποιείται η **timeit** για την καταγραφή χρόνου."
   ]
  },
  {
   "cell_type": "code",
   "execution_count": 1,
   "metadata": {
    "id": "yDExeOFAATJn"
   },
   "outputs": [],
   "source": [
    "import numpy as np\n",
    "import matplotlib.pyplot as plt\n",
    "import timeit\n",
    "\n",
    "from keras.datasets import mnist\n",
    "from collections import Counter\n"
   ]
  },
  {
   "cell_type": "markdown",
   "metadata": {
    "id": "DemA3du1isM-"
   },
   "source": [
    "## 1.2 Φόρτωση & Επεξεργασία Δεδομένων\n",
    "\n",
    "Αρχικά, *φορτώνουμε* το σύνολο δεδομένων της **MNIST**. Ύστερα, *κανονικοποιούμε* τις τιμές φωτεινότητας μεταξύ **0** και **1** (από **0** και **255**) έτσι ώστε να δωθεί στα δεδομένα μία κοινή κατάσταση, δηλαδή όλες οι μεταβλητές να είναι κεντραρισμένες παρόμοια. Αυτή η διαδικασία κρίνεται εξαιρετικά σημαντική για την μειώση διαστάσεων με **PCA** (η οποία θα πραγματοποιηθεί στην συνέχεια). Μάλιστα, με την `astype('float32')` μετατρέπουμε το σύνολο δεδομένων σε *32 bit πραγματικούς*, διότι έτσι θα εφαρμοστεί καλύτερα στην *RAM*! Έπειτα ο πίνακας (όπου είναι αποθηκεύμενες αυτές οι τιμές για τα train/test δεδομένα) μετατρέπεται απο *τρισδιάστατος* σε *δισδιάστατος*, κάνοντας τις διαστάσεις **28x28** (δηλαδή **784**)."
   ]
  },
  {
   "cell_type": "code",
   "execution_count": 2,
   "metadata": {
    "colab": {
     "base_uri": "https://localhost:8080/"
    },
    "id": "0coo6NoNA3GL",
    "outputId": "ae04408c-6901-457b-9cfe-9f5c303c6375"
   },
   "outputs": [
    {
     "name": "stdout",
     "output_type": "stream",
     "text": [
      "Downloading data from https://storage.googleapis.com/tensorflow/tf-keras-datasets/mnist.npz\n",
      "11490434/11490434 [==============================] - 2s 0us/step\n"
     ]
    }
   ],
   "source": [
    "# Φορτώνουμε το σύνολο δεδομένων της MNIST\n",
    "(train_data, train_labels), (test_data, test_labels) = mnist.load_data()\n"
   ]
  },
  {
   "cell_type": "code",
   "execution_count": 3,
   "metadata": {
    "colab": {
     "base_uri": "https://localhost:8080/"
    },
    "id": "RKmoHJBakCIO",
    "outputId": "b0482e0e-1f05-4bba-c775-d695f8db09e4"
   },
   "outputs": [
    {
     "name": "stdout",
     "output_type": "stream",
     "text": [
      "Train/test data shape: (60000, 784) (10000, 784)\n",
      "Train/test labels shape: (60000,) (10000,)\n"
     ]
    }
   ],
   "source": [
    "# Κανονικοποιούμε τα δεδομένα μεταξύ 0 και 1 (από 0 και 255)\n",
    "train_data = train_data.astype('float32')\n",
    "test_data = test_data.astype('float32')\n",
    "train_data = train_data / 255.0\n",
    "test_data = test_data / 255.0\n",
    "# Μετατρέπω τα train_data/test_data από τρισδιάστατο πίνακα (60000, 28, 28) \n",
    "# σε δισδιάστατο πίνακα (60000, 784)\n",
    "num_pixels = 784\n",
    "train_data = train_data.reshape(train_data.shape[0], num_pixels)\n",
    "test_data = test_data.reshape(test_data.shape[0], num_pixels)\n",
    "\n",
    "# Εκτυπώνω τις τιμές έτσι ώστε να δω πως όλα πήγαν καλά!\n",
    "print(\"Train/test data shape:\", train_data.shape, test_data.shape)\n",
    "print(\"Train/test labels shape:\", train_labels.shape, test_labels.shape)\n"
   ]
  },
  {
   "cell_type": "markdown",
   "metadata": {
    "id": "x-dhNZgnwGmE"
   },
   "source": [
    "# 2 Ανάλυση Κύριων Συνιστωσών (*PCA*)"
   ]
  },
  {
   "cell_type": "markdown",
   "metadata": {
    "id": "HqkO6pBdwovN"
   },
   "source": [
    "# 2.1 Συνάρτηση PCA\n",
    "\n",
    "Παρακάτω *δημιουργούμε* την συνάρτηση για να εφαρμόσουμε μείωση διαστάσεων στις χειρόγραφες εικόνες με τη χρήση της *Μεθόδου Ανάλυσης Πρωτευουσών Συνιστωσών* (**Principal Component Analysis** ή αλλίως **PCA**). Αρχικά, αφαιρείται ο αριθμητικός μέσος όλων των γραμμών από κάθε γραμμή, έτσι ώστε να κανονικοποιήσουμε τις μεταβλητές. Έπειτα, υπολογίζουμε τον πίνακα συνδιακύμανσης (*covariance matrix*), ώστε να κατανοήσουμε πως οι μεταβλητές ποικίλουν η μία με την άλλη από τον αριθμητικό μέσο και να δούμε αν υπάρχει μεταξύ τους κάποια σχέση. Ο πίνακας αυτός είναι συμμετρικός και έχει σαν καταχωρήσεις τις συνδιακυμάνσεις που σχετίζονται με όλα τα πιθανά ζευγάρια των αρχικών μεταβλητών. Η κύρια διαγώνιος ουσιαστικά περιέχει τη διασπορά όλων των μεταβλητών και επειδή οι καταχωρήσεις είναι συμμετρικές ως προς την κύρια διαγώνιο, ο άνω και κάτω τριγωνικός πίνακας είναι ίσοι. Το πρόσημο του πίνακα μας δείχνει πως σχετίζονται οι μεταβλητές μεταξύ τους. Μετέπειτα, υπολογίζονται οι ιδιοτιμές και τα ιδιοδιανύσματα του πίνακα συνδιασποράς, ώστε να οριστούν οι κύριες συνιστώσες. Τα ιδιοδιανύσματα του πίνακα ουσιαστικά αποτελούν τις κατευθύνσεις των αξόνων όπου υπάρχει η περισσότερη διασπορά, δηλαδή η περισσότερη πληροφορία, και οι ιδιοτιμές είναι οι συντελεστές των διανυσμάτων. Οπότε, ταξινομούμε με φθίνουσα σειρά τα ιδιοδιανύσματα με βάση τις ιδιοτιμές τους και έτσι παίρνουμε τις κύριες συνιστώσες με βάση τη σημαντικότητα τους. Έτσι, απο αυτές κρατάμε όποιες επιθυμούμε απο τις πρώτες. Aυτό το βήμα αποτελεί τον υπολογισμό του feature vector (πίνακα χαρακτηριστικών). Τέλος, πρέπει να προβάλλουμε τα δεδομένα στον άξονα των κυριών συνιστωσών, πολλαπλασιάζοντας τον πίνακα των αρχικών δεδομένων με τον πίνακα χαρακτηριστικών. Όσον αφορά το y, αφαιρείται από αυτό τον αριθμητικό μέσο του x και στη συνέχεια προλλαπλασιάζουμε τον πίνακα χαρακτηριστικών με τον πίνακα του y."
   ]
  },
  {
   "cell_type": "code",
   "execution_count": 4,
   "metadata": {
    "id": "EST3-KeqArGs"
   },
   "outputs": [],
   "source": [
    "# Συνάρτηση που πραγματοποιεί την Ανάλυση Κύριων Συνιστωσών (PCA).\n",
    "# x = train_data\n",
    "# y = test_data\n",
    "# d = Διαστάσεις στις οποίες θα μειωθούν τα train_data\n",
    "def PCA(x, y, d):\n",
    "    # Εύρεση του αριθμητικού μέσου στον πίνακα x\n",
    "    x_mean = np.mean(x, axis=0)\n",
    "    # Αφαίρεση του αριθμητικού μέσου όλων των γραμμών από κάθε γραμμή (για κανονικοποίηση)\n",
    "    x = x - x_mean\n",
    "    # Υπολογισμός Πίνακα Συνδιακύμανσης (ΠΡΟΣΟΧΗ: Θέλει Ανάστροφο Πίνακα γιατί η \n",
    "    # συνάρτηση cov() έχει τα χαρακτηριστικά στις στήλες και τα δείγματα στις γραμμές!)\n",
    "    cov = np.cov(x.T)\n",
    "    # Υπολογισμός Ιδιοτιμών και Ιδιοδιανυσμάτων του Πίνακα Συνδιακύμανσης\n",
    "    eigenvalues, eigenvectors = np.linalg.eig(cov)\n",
    "    # Υπολογισμός Ανάστροφων Ιδιοδιανυσμάτων (γιατί από συνάρτηση linalg.eig() \n",
    "    # επιστράφηκε ως Διάνυσμα Στήλης και όχι ως Ιδιοδιάνυσμα, v[:,i])\n",
    "    eigenvectors = eigenvectors.T\n",
    "    # Δεικτοδότηση των ταξινόμημένων Ιδιοτιμών σε φθίνουσα σειρά\n",
    "    indexes = np.argsort(eigenvalues)[::-1]\n",
    "    eigenvalues = eigenvalues[indexes]\n",
    "    eigenvectors = eigenvectors[indexes]\n",
    "    # Υπολογισμός του νέου πίνακα x, ο οποίος κρατάει τις d πιο σημαντικές τιμές\n",
    "    # του Ιδιοδιανύσματος\n",
    "    new_x = eigenvectors[0:d]\n",
    "    # Αφαίρεση του αριθμητικού μέσου και από τον πίνακα y\n",
    "    y = y - x_mean\n",
    "    # Προβολή του Ιδιοδιανύσματος μέσα στον χώρο του x (εφόσον αναστρέψουμε πάλι\n",
    "    # το x!)\n",
    "    pca_train = np.dot(x, new_x.T)\n",
    "    # Προβολή του Ιδιοδιανύσματος μέσα στον χώρο του y (εφόσον αναστρέψουμε πάλι\n",
    "    # το y!)\n",
    "    pca_test = np.dot(y, new_x.T)\n",
    "    return pca_train, pca_test\n"
   ]
  },
  {
   "cell_type": "markdown",
   "metadata": {
    "id": "WNytbrJ7TLGQ"
   },
   "source": [
    "Κάνοντας χρήση της συγκεκριμένης μεθόδου τα χαρακτηριστικά ενός δείγματος μπορούν να μειωθούν από 784 σε **οποιοδήποτε αριθμό μικρότερο του 784**. Η επιλογή που κάνω είναι οι *25 κύριες συνιστώσες*!"
   ]
  },
  {
   "cell_type": "code",
   "execution_count": 5,
   "metadata": {
    "colab": {
     "base_uri": "https://localhost:8080/"
    },
    "id": "-a9riUF8Epvs",
    "outputId": "1e8cf560-587d-4e28-e73e-d05a665d412b"
   },
   "outputs": [
    {
     "name": "stdout",
     "output_type": "stream",
     "text": [
      "Train/test data shape: (60000, 25) (10000, 25)\n"
     ]
    }
   ],
   "source": [
    "# Επιστροφή των δεδομένων μέσα από την συνάρτηση PCA (δηλαδή τις προβολές των\n",
    "# Ιδιοδιανυσμάτων για το pca & το pca_test)\n",
    "new_train_data, new_test_data = PCA(train_data, test_data, 25)\n",
    "\n",
    "# Εκτυπώνω τις τιμές έτσι ώστε να δω πως όλα πήγαν καλά!\n",
    "print(\"Train/test data shape:\", new_train_data.shape, new_test_data.shape)\n"
   ]
  },
  {
   "cell_type": "code",
   "execution_count": 6,
   "metadata": {
    "colab": {
     "base_uri": "https://localhost:8080/",
     "height": 265
    },
    "id": "r8nDmAPCA_ME",
    "outputId": "ecb909ad-2fc7-40d4-bba4-7ccf8eaf36d3"
   },
   "outputs": [
    {
     "data": {
      "image/png": "[encoded data removed]",
      "text/plain": [
       "<Figure size 432x288 with 1 Axes>"
      ]
     },
     "metadata": {
      "needs_background": "light"
     },
     "output_type": "display_data"
    }
   ],
   "source": [
    "# Οπτικοποίηση των δεδομένων μετά από την χρήση της μεθόδου PCA\n",
    "# Οι πίνακες T είναι πίνακες αληθείας που αναπαριστούν κάθε χειρόγραφο ψηφίο του Dataset\n",
    "T0 = train_labels == 0\n",
    "T1 = train_labels == 1\n",
    "T2 = train_labels == 2\n",
    "T3 = train_labels == 3\n",
    "T4 = train_labels == 4\n",
    "T5 = train_labels == 5\n",
    "T6 = train_labels == 6\n",
    "T7 = train_labels == 7\n",
    "T8 = train_labels == 8\n",
    "T9 = train_labels == 9\n",
    "\n",
    "# Τοποθέτηση των γραμμών κάθε πίνακα T σε έναν άλλο πίνακα (για την επαλήθευση του Dataset\n",
    "# και την οπτικοποίηση του)\n",
    "M0 = new_train_data[T0 == 1, :]\n",
    "M1 = new_train_data[T1 == 1, :]\n",
    "M2 = new_train_data[T2 == 1, :]\n",
    "M3 = new_train_data[T3 == 1, :]\n",
    "M4 = new_train_data[T4 == 1, :]\n",
    "M5 = new_train_data[T5 == 1, :]\n",
    "M6 = new_train_data[T6 == 1, :]\n",
    "M7 = new_train_data[T7 == 1, :]\n",
    "M8 = new_train_data[T8 == 1, :]\n",
    "M9 = new_train_data[T9 == 1, :]\n",
    "\n",
    "# Εξαγωγή μόνο του πραγματικού μέρους του Ιδιοδιανύσματος\n",
    "NM0 = M0.real\n",
    "NM1 = M1.real\n",
    "NM2 = M2.real\n",
    "NM3 = M3.real\n",
    "NM4 = M4.real\n",
    "NM5 = M5.real\n",
    "NM6 = M6.real\n",
    "NM7 = M7.real\n",
    "NM8 = M8.real\n",
    "NM9 = M9.real\n",
    "\n",
    "# Σχεδίαση των δεδομένων σε μια γραφική αναπαράσταση\n",
    "plt.scatter(NM0[:, 0], NM0[:, 1], marker=\"*\")\n",
    "plt.scatter(NM1[:, 0], NM1[:, 1], marker=\"*\")\n",
    "plt.scatter(NM2[:, 0], NM2[:, 1], marker=\"*\")\n",
    "plt.scatter(NM3[:, 0], NM3[:, 1], marker=\"*\")\n",
    "plt.scatter(NM4[:, 0], NM4[:, 1], marker=\"*\")\n",
    "plt.scatter(NM5[:, 0], NM5[:, 1], marker=\"*\")\n",
    "plt.scatter(NM6[:, 0], NM6[:, 1], marker=\"*\")\n",
    "plt.scatter(NM7[:, 0], NM7[:, 1], marker=\"*\")\n",
    "plt.scatter(NM8[:, 0], NM8[:, 1], marker=\"*\")\n",
    "plt.scatter(NM9[:, 0], NM9[:, 1], marker=\"*\")\n",
    "plt.show()\n"
   ]
  },
  {
   "cell_type": "markdown",
   "metadata": {
    "id": "7rCeJ84pc0bT"
   },
   "source": [
    "# 3 Χρήσιμες Μετρικές & Υλοποίηση/Σύκριση των 2 κατηγοριοποιητών."
   ]
  },
  {
   "cell_type": "markdown",
   "metadata": {
    "id": "1N1I2-6qiUcH"
   },
   "source": [
    "## 3.1 Δημιουργία (*from scratch*) των 2 μετρικών που θα χρησιμοποιηθούν για την σύγκριση των 2 κατηγοριοποιητών (**KNN/NCC**).\n",
    "\n",
    "Επιλέγονται οι: α)*Μετρική της Ευκλείδειας Απόστασης* & η β)*Μετρική της Ακρίβειας*! Μάλιστα, μειώνεται το Dataset (γιατί αργούν πολύ οι κατηγοριοποιητές με όλο το Dataset!)."
   ]
  },
  {
   "cell_type": "code",
   "execution_count": 7,
   "metadata": {
    "id": "Df35eg1MBkkk"
   },
   "outputs": [],
   "source": [
    "# Συνάρτηση που υπολογίζει την Ευκλείδεια Απόσταση\n",
    "def euclidean_distance(x1, x2):\n",
    "    return np.sqrt(np.sum((x1 - x2) ** 2))\n",
    "\n",
    "# Συνάρτηση που υπολογίζει την Ακρίβεια\n",
    "def accuracy(y_true, y_pred):\n",
    "    acc = np.sum(y_true == y_pred) / len(y_true)\n",
    "    return acc\n",
    "\n",
    "# Μείωση του Dataset στις πρώτες 7500 γραμμές και 800 στήλες\n",
    "second_new_train_data = new_train_data[:7500, :]\n",
    "second_new_test_data = new_test_data[:800, :]\n",
    "new_train_labels = train_labels[:7500]\n",
    "new_test_labels = test_labels[:800]\n"
   ]
  },
  {
   "cell_type": "markdown",
   "metadata": {
    "id": "VJhkmpcxlZ9w"
   },
   "source": [
    "## 3.2 Κατηγοριοποιητής Κ Πλησιέστερων Γειτόνων (**KNN** *from scratch*)\n",
    "\n",
    "Ο Κατηγοριοποιητής Πλησιέστερων Γειτόνων είναι μία ιδιαίτερα διαδεδομένη επιβλεπόμενη μέθοδος. Αρχικά, ο αλγόριθμος δέχεται ως είσοδο τα σημεία τα οποία πρέπει να χρησιμοποιήσει για να λάβει μια μελλοντική απόφαση κατηγοριοποίησης, τις ετικέτες αυτών των σημείων, την παράμετρο Κ, καθώς και τα σημεία που καλείται να κατηγοριοποιήσει. Η παράμετρος Κ που αναφέρθηκε προηγουμένως καθορίζει το πλήθος των σημείων που εν τέλει θα επηρεάσουν την απόφαση που θα ληφθεί για ένα καινούργιο σημείο προς κατηγοριοποίηση. Η γενική ιδέα του κατηγοριοποιητή αυτού είναι η προσπάθεια να εκμεταλλευτεί την τοπικότητα η οποία χαρακτηρίζει τα δείγματα που ανήκουν στην ίδια κλάση για το εκάστοτε πρόβλημα, δηλαδή βασίζεται στο όσο πιο κοντά είναι τα σημεία θα είναι και τόσο πιο όμοια! Δεδομένου κάποιου συγκεκριμένου Κ (στην περίπτωσή μας 1 ή 3) υπολογίζονται οι αποστάσεις μεταξύ ενός δοσμένου σημείου και των σημείων του συνόλου δεδομένων, ταξινομούνται με φθίνουσα σειρά και παίρνονται οι ετικέτες των πρώτων Κ καταχωρήσεων. Τέλος, επιστρέφεται η πρόβλεψη για το σημείο αυτό. Όσον αφορά την απόσταση, χρησιμοποιείται η Ευκλείδια Απόσταση.\n"
   ]
  },
  {
   "cell_type": "code",
   "execution_count": 8,
   "metadata": {
    "id": "Ut4DlQ_oBXxa"
   },
   "outputs": [],
   "source": [
    "# Κλάση του Κατηγοριοποιητή Κ Πλησιέστερων Γειτόνων\n",
    "class KNN:\n",
    "\n",
    "    def __init__(self, k):\n",
    "        self.k = k\n",
    "\n",
    "    def fit(self, X, y):\n",
    "        self.X_train = X\n",
    "        self.y_train = y\n",
    "\n",
    "    def predict(self, X):\n",
    "        y_pred = [self._predict(x) for x in X]\n",
    "        return np.array(y_pred)\n",
    "\n",
    "    def _predict(self, x):\n",
    "        # Υπολογισμός των αποστάσεων μεταξύ των x και όλων των παραδειγμάτων στο x_train\n",
    "        # μέσω της Ευκλείδειας απόστασης\n",
    "        distances = [euclidean_distance(x, x_train) for x_train in self.X_train]\n",
    "        # Ταξινόμηση μέσα από τις αποστάσεις και επιστροφή των δεικτών από τους k\n",
    "        # κοντινότερους γείτονες\n",
    "        k_idx = np.argsort(distances)[:self.k]\n",
    "        # Εύρεση ετικετών των k κοντινότερων γειτόνων του y_train\n",
    "        k_neighbor_labels = [self.y_train[i] for i in k_idx]\n",
    "        # Επιστροφή της πιο κοινής ετικέτας μιας κλάσης (από τα χειρόγραφα ψηφία)\n",
    "        most_common = Counter(k_neighbor_labels).most_common(1)\n",
    "        return most_common[0][0]\n"
   ]
  },
  {
   "cell_type": "markdown",
   "metadata": {
    "id": "fRltWI8hr8j2"
   },
   "source": [
    "## 3.3 Κατηγοριοποιητής Πλησιέστερου Κέντρου (**NCC** *from scratch*)\n",
    "\n",
    "Ο Κατηγοριοποιητής Πλησιέστερου Κέντρου είναι μια μέθοδος που μοιάζει πολύ σε λογική με αυτή των Κ-μέσων. Ο αλγόριθμος δέχεται ως είσοδο τα σημεία τα οποία πρέπει να χρησιμοποιήσει για να λάβει μια μελλοντική απόφαση κατηγοριοποίησης, τις ετικέτες αυτών των σημείων, καθώς και τα σημεία που καλείται να κατηγοριοποιήσει. Η γενική ιδέα του κατηγοριοποιητή αυτού είναι η δημιουργία ενός κύκλου γύρω από κάθε κλάση ο οποίος έχει ως κέντρο του εχει το διάνυσμα με τις μέσες τιμές για κάθε χαρακτηριστικό του συνόλου των σημείων που συμμετέχουν στην κλάση αυτή, δηλαδή βασίζεται στο ότι δεδομένου ενός σημείου, του δίνει μία ετικέτα από τα δεδομένα εκπαίδευσης, ανάλογα με το ποιο κέντρο αυτών είναι κοντά του. Το κέντρο κάθε κλάσης υπολογίζεται στην εκπαίδευση. Μετά, δεδομένου ενός σημείου υπολογίζονται οι αποστάσεις από αυτό σε κάθε κέντρο κλάσης. Από όλες τις αποστάσεις επιλέγεται η μικρότερη και η ετικέτα κλάσης αυτού του κέντρου δίνεται στο σημείο."
   ]
  },
  {
   "cell_type": "code",
   "execution_count": 9,
   "metadata": {
    "id": "6Z3p9DCgBy3O"
   },
   "outputs": [],
   "source": [
    "# Κλάση του Κατηγοριοποιητή Πλησιέστερου Κέντρου\n",
    "class NearestCentroid:\n",
    "    def __init__(self, images, labels):\n",
    "        self.images = images\n",
    "        self.labels = labels\n",
    "        self.num_images = len(images)\n",
    "\n",
    "    def fit(self):\n",
    "        classes = np.unique(self.labels)\n",
    "        self.classes = classes\n",
    "        centroids = np.empty((classes.shape[0], self.images.shape[1]))\n",
    "        label_to_image = []\n",
    "        for cl in classes:\n",
    "            img_label = []\n",
    "            for j in range(0, self.num_images):\n",
    "                if self.labels[j] == cl:\n",
    "                    img_label.append(self.images[j])\n",
    "            label_to_image.append(img_label)\n",
    "        for i in range(0, len(classes)):\n",
    "            centroids[i] = np.mean(label_to_image[i], axis=0)\n",
    "        self.centroids = centroids\n",
    "\n",
    "    def predict(self, images):\n",
    "        classified = []\n",
    "        for image in images:\n",
    "            smallest_dist = 99999999\n",
    "            cl = None\n",
    "            for i, centroid in enumerate(self.centroids):\n",
    "                dist = np.sqrt(np.sum((image - centroid) ** 2))\n",
    "                if dist < smallest_dist:\n",
    "                    smallest_dist = dist\n",
    "                    cl = i\n",
    "            classified.append([cl])\n",
    "        return classified\n",
    "\n"
   ]
  },
  {
   "cell_type": "markdown",
   "metadata": {
    "id": "fL7qlXhtHaUU"
   },
   "source": [
    "## 4 Σύγκριση των 2 κατηγοριοποιητών (**KNN/NCC**).\n",
    "\n",
    "Παρακάτω συγκρίνω τους 2 κατηγοριοποιητές, KNN & NCC (μετά από την μετατροπή των συνιστωσών μέσα από το PCA)!"
   ]
  },
  {
   "cell_type": "code",
   "execution_count": 10,
   "metadata": {
    "colab": {
     "base_uri": "https://localhost:8080/"
    },
    "id": "kRg_iRDlB640",
    "outputId": "964ebfd8-3291-40e1-cffc-923edbcaa160"
   },
   "outputs": [
    {
     "name": "stdout",
     "output_type": "stream",
     "text": [
      "Προβέψεις για τον KNN (με 1 γείτονα):  [7 2 1 0 4 1 4 9 5 9 0 6 9 0 1 5 9 7 3 4 9 6 6 5 9 0 7 4 0 1 3 1 3 4 7 2 7\n",
      " 1 2 1 1 7 4 2 3 5 1 2 4 4 6 3 5 5 6 0 4 1 9 5 7 2 9 3 7 9 6 4 3 0 7 0 2 7\n",
      " 1 7 3 3 9 7 7 6 2 7 8 4 7 3 6 1 3 6 9 3 1 4 1 7 6 9 6 0 5 4 5 9 2 1 9 4 8\n",
      " 7 3 9 7 9 4 4 9 2 5 4 9 6 7 9 0 5 8 5 6 6 5 7 8 1 0 1 6 4 6 7 3 1 7 1 8 2\n",
      " 0 2 9 9 5 5 1 5 6 0 3 4 4 6 5 4 6 5 4 5 1 4 4 7 2 3 2 1 1 8 1 8 1 8 5 0 8\n",
      " 9 2 5 0 1 1 1 0 9 0 2 1 6 4 2 3 6 1 1 1 3 9 5 2 9 4 5 9 3 9 0 3 6 5 5 7 2\n",
      " 2 7 1 2 8 4 1 7 5 3 8 8 7 9 2 2 4 1 5 8 8 7 2 3 0 6 4 2 9 1 9 5 7 7 2 8 2\n",
      " 6 8 5 7 7 9 1 8 1 8 0 3 0 1 9 9 4 1 8 2 1 2 9 7 5 9 2 6 4 1 5 8 2 9 2 0 4\n",
      " 0 0 2 8 6 7 1 2 4 0 2 7 4 8 3 0 0 3 1 9 6 5 2 5 1 7 9 3 5 4 2 0 7 1 1 2 1\n",
      " 5 3 3 9 7 8 6 5 9 1 3 8 1 0 5 1 7 1 5 5 6 1 8 5 1 4 9 4 6 2 2 5 0 6 8 6 3\n",
      " 7 2 0 8 8 5 9 1 1 4 0 7 3 7 6 1 6 2 1 9 2 8 6 1 9 5 2 5 4 4 2 8 3 8 2 4 5\n",
      " 0 3 1 7 7 3 7 9 7 1 9 2 1 4 2 9 2 0 4 9 1 4 8 1 8 4 5 9 8 8 3 7 6 0 0 3 0\n",
      " 8 0 6 4 9 3 3 3 2 3 9 1 2 6 8 0 5 6 6 6 7 8 8 2 3 5 8 9 6 1 8 4 1 2 5 8 1\n",
      " 9 7 5 4 0 8 9 9 1 0 5 8 3 7 0 9 9 0 6 3 9 5 2 1 3 1 8 6 5 7 4 2 2 6 3 2 6\n",
      " 5 4 8 9 9 1 3 0 3 9 3 1 9 6 4 4 6 4 2 1 8 2 5 4 8 1 4 0 0 2 3 2 7 3 0 8 7\n",
      " 4 4 7 9 6 9 0 9 8 0 4 6 0 6 3 5 9 8 3 3 9 3 3 3 7 8 0 2 2 1 7 0 6 5 4 3 8\n",
      " 0 4 6 3 8 0 9 9 6 8 6 5 5 7 8 6 0 2 4 0 2 7 3 1 9 7 5 1 0 8 4 6 2 6 7 4 9\n",
      " 2 9 8 2 2 9 2 7 3 5 9 1 8 0 2 0 5 6 1 3 7 6 7 1 2 5 8 0 3 7 7 4 0 9 1 8 6\n",
      " 7 1 4 3 4 9 1 9 5 1 7 3 9 7 6 9 1 3 1 8 3 3 6 7 2 7 5 8 5 1 1 4 4 3 1 0 7\n",
      " 7 0 7 9 9 4 8 5 5 4 0 8 2 1 0 8 4 8 0 4 0 6 1 7 3 2 6 7 2 6 9 3 1 4 6 8 5\n",
      " 9 2 0 6 2 1 7 3 4 1 0 5 4 3 1 1 7 4 9 9 9 8 4 0 2 4 5 1 1 6 4 7 1 9 4 2 4\n",
      " 1 5 5 3 8 3 1 4 5 6 8 9 4 1 5 3 8 0 3 2 5 1 2]\n",
      "Ακρίβεια για τον KNN: (με 1 γείτονα) 92.88 %\n",
      "Time:  55.27001003400001 seconds\n"
     ]
    }
   ],
   "source": [
    "start = timeit.default_timer()\n",
    "clf = KNN(k=1)\n",
    "clf.fit(second_new_train_data, new_train_labels)\n",
    "predictions = clf.predict(second_new_test_data)\n",
    "print(\"Προβέψεις για τον KNN (με 1 γείτονα): \", predictions)\n",
    "# Εύρεση της Ακρίβειας (με βάση την Εκατονταβάθμια Κλίμακα)\n",
    "print(\"Ακρίβεια για τον KNN: (με 1 γείτονα)\", format(accuracy(new_test_labels, predictions) * 100, \".2f\"), \"%\")\n",
    "stop = timeit.default_timer()\n",
    "print('Time: ', stop - start, 'seconds')\n"
   ]
  },
  {
   "cell_type": "code",
   "execution_count": 11,
   "metadata": {
    "colab": {
     "base_uri": "https://localhost:8080/"
    },
    "id": "Zk-9aglYaZ_O",
    "outputId": "87be3d3f-731f-48eb-95df-a41727984c57"
   },
   "outputs": [
    {
     "name": "stdout",
     "output_type": "stream",
     "text": [
      "Προβέψεις για τον KNN (με 3 γείτονες):  [7 2 1 0 4 1 4 9 5 9 0 6 9 0 1 5 9 7 3 4 9 6 6 5 9 0 7 4 0 1 3 1 3 4 7 2 7\n",
      " 1 2 1 1 7 4 2 3 5 1 2 4 4 6 3 5 5 6 0 4 1 9 5 7 2 9 3 7 4 6 4 3 0 7 0 2 9\n",
      " 1 7 3 7 9 7 7 6 2 7 8 4 7 3 6 1 3 6 9 3 1 4 1 7 6 9 6 0 5 4 9 9 2 1 9 4 8\n",
      " 7 3 9 7 9 4 4 9 2 5 4 7 6 7 9 0 5 8 5 6 6 5 7 8 1 0 1 6 4 6 7 3 1 7 1 8 2\n",
      " 0 2 9 8 5 5 1 5 6 0 3 4 4 6 5 4 6 5 4 5 1 4 4 7 2 3 2 1 1 8 1 8 1 8 5 0 8\n",
      " 9 2 5 0 1 1 1 0 4 0 2 1 6 4 2 3 6 1 1 1 3 9 3 2 9 4 5 9 3 9 0 3 6 5 3 7 2\n",
      " 2 7 1 2 8 4 1 7 3 3 8 8 7 9 2 2 4 1 5 8 8 7 2 3 0 6 4 2 9 1 9 5 7 7 2 6 2\n",
      " 6 8 5 7 7 9 1 8 1 8 0 3 0 1 9 9 4 1 8 2 1 2 9 7 5 9 2 6 4 1 5 8 2 9 2 0 4\n",
      " 0 0 2 8 6 7 1 2 4 0 2 7 4 3 3 0 0 3 1 9 6 5 2 5 1 7 9 3 5 4 2 0 7 1 1 2 1\n",
      " 5 3 3 9 7 8 6 5 4 1 3 8 1 0 5 1 7 1 5 3 6 1 8 5 1 4 9 4 6 2 2 5 0 6 3 6 3\n",
      " 7 2 0 8 8 5 4 1 1 4 0 7 3 7 6 1 6 2 1 9 2 8 6 1 9 5 2 5 4 4 2 8 3 8 2 4 5\n",
      " 0 3 1 7 7 3 7 9 7 1 9 2 1 4 2 9 2 0 4 9 1 4 8 1 8 4 5 9 8 8 3 7 6 0 0 3 0\n",
      " 2 0 6 4 9 3 3 3 2 3 9 1 2 6 8 0 5 6 6 6 7 8 8 2 3 5 8 9 6 1 8 4 1 2 5 8 1\n",
      " 9 7 5 4 0 8 9 9 1 0 5 8 3 7 0 9 9 0 6 3 9 5 2 1 3 1 3 6 5 7 4 2 2 6 3 2 6\n",
      " 5 4 8 9 9 1 3 0 3 8 3 1 9 6 4 4 6 4 2 1 8 2 5 4 8 1 4 0 0 2 3 2 7 1 0 8 7\n",
      " 4 4 7 9 6 9 0 9 8 0 4 6 0 6 3 5 9 8 3 3 9 3 3 8 7 8 0 2 2 1 7 0 6 5 4 3 8\n",
      " 0 9 6 3 8 0 9 9 6 8 6 8 5 7 8 6 0 2 4 0 2 7 3 1 9 7 5 1 0 8 4 6 2 6 7 9 9\n",
      " 2 9 8 2 2 9 2 7 3 5 9 1 8 0 2 0 5 6 1 3 7 6 7 1 2 5 8 0 3 7 7 4 0 9 1 8 6\n",
      " 7 1 4 3 4 9 1 9 5 1 7 3 9 7 6 9 1 3 1 8 3 3 6 7 2 7 5 8 5 1 1 4 4 3 1 0 7\n",
      " 7 0 7 9 4 4 8 5 5 4 0 8 2 1 0 8 4 5 0 4 0 6 1 7 3 2 6 7 2 6 9 3 1 4 6 8 5\n",
      " 9 2 0 6 2 1 7 3 4 1 0 5 4 3 1 1 7 4 9 9 9 8 4 0 2 4 5 1 1 6 4 7 1 9 4 2 4\n",
      " 1 5 5 3 8 3 1 4 5 6 8 9 4 1 9 3 8 0 3 2 5 1 2]\n",
      "Ακρίβεια για τον KNN: (με 3 γείτονες) 93.75 %\n",
      "Time:  52.02159457900001 seconds\n"
     ]
    }
   ],
   "source": [
    "start = timeit.default_timer()\n",
    "clf = KNN(k=3)\n",
    "clf.fit(second_new_train_data, new_train_labels)\n",
    "predictions = clf.predict(second_new_test_data)\n",
    "print(\"Προβέψεις για τον KNN (με 3 γείτονες): \", predictions)\n",
    "# Εύρεση της Ακρίβειας (με βάση την Εκατονταβάθμια Κλίμακα)\n",
    "print(\"Ακρίβεια για τον KNN: (με 3 γείτονες)\", format(accuracy(new_test_labels, predictions) * 100, \".2f\"), \"%\")\n",
    "stop = timeit.default_timer()\n",
    "print('Time: ', stop - start, 'seconds')\n"
   ]
  },
  {
   "cell_type": "code",
   "execution_count": 12,
   "metadata": {
    "colab": {
     "base_uri": "https://localhost:8080/"
    },
    "id": "HkZG_TE5ago5",
    "outputId": "f48d6cf5-1f62-47e6-90d8-598718d9d1b4"
   },
   "outputs": [
    {
     "name": "stdout",
     "output_type": "stream",
     "text": [
      "Προβέψεις για τον NCC: [7 5 1 0 4 1 4 9 2 9 0 2 9 0 1 5 9 7 3 4 9 6 4 5 4 0 7 4 0 1 3 1 3 6 7 2 7\n",
      " 1 3 1 1 7 4 1 3 5 5 2 4 4 6 3 5 5 2 5 4 1 9 1 7 2 9 2 7 5 2 4 3 0 7 0 2 8\n",
      " 1 7 3 7 1 7 9 6 2 7 8 4 7 3 6 1 3 6 9 3 1 4 5 1 6 9 4 0 5 4 4 9 2 1 9 4 8\n",
      " 1 5 9 7 9 9 4 9 7 3 6 7 6 7 9 0 5 8 5 6 6 5 7 8 1 0 1 6 4 6 7 3 1 9 1 8 2\n",
      " 0 1 9 9 5 5 1 5 6 0 3 4 4 6 5 4 4 3 4 5 1 9 4 7 3 3 2 1 1 8 1 8 1 8 5 0 3\n",
      " 9 3 3 0 1 1 5 0 9 0 5 1 6 4 2 3 6 1 1 1 3 9 5 2 9 4 5 4 1 9 0 3 5 7 5 7 2\n",
      " 2 7 1 2 8 4 1 7 3 3 8 9 7 9 2 2 4 1 3 3 8 9 1 5 0 2 4 1 9 1 9 5 7 7 2 1 2\n",
      " 0 8 1 7 7 5 1 8 1 3 0 3 0 1 9 9 4 1 8 2 1 2 9 1 5 9 2 6 4 1 5 4 3 9 2 0 4\n",
      " 0 0 2 8 1 9 1 2 9 0 2 9 4 3 3 0 0 5 1 9 5 1 3 3 1 1 9 3 5 9 2 0 7 1 1 1 1\n",
      " 5 3 3 9 7 3 6 6 4 1 3 5 1 8 5 1 9 5 5 0 6 1 8 5 1 7 9 4 6 7 1 5 5 6 3 6 3\n",
      " 7 2 0 8 8 5 9 1 1 4 0 7 3 7 6 1 6 2 1 9 2 8 6 1 9 5 2 5 4 4 2 8 3 9 2 4 0\n",
      " 0 3 1 7 1 3 7 9 7 1 9 2 1 4 2 9 2 0 4 9 1 4 4 1 8 4 4 9 8 8 3 7 6 0 0 3 5\n",
      " 8 0 6 4 8 5 3 3 1 3 9 1 1 5 8 0 5 4 6 6 7 8 8 2 2 5 8 9 6 1 8 4 1 2 5 3 1\n",
      " 9 7 5 4 0 9 4 9 1 0 5 2 3 7 6 9 9 8 6 3 9 5 2 1 3 1 5 5 5 7 1 1 2 2 1 2 6\n",
      " 5 9 1 9 7 1 5 0 3 3 5 1 9 6 9 4 6 4 1 1 5 2 5 4 1 4 4 0 0 2 3 2 9 1 6 6 7\n",
      " 4 4 7 9 6 9 0 9 8 0 9 1 5 6 5 5 9 9 3 3 9 3 3 8 7 8 0 1 2 1 7 0 6 3 4 3 3\n",
      " 0 9 6 5 8 0 9 9 6 8 2 8 5 9 3 6 0 1 4 0 2 8 1 1 9 7 3 8 0 8 4 6 1 6 7 9 9\n",
      " 4 4 8 2 2 9 2 7 5 7 9 1 8 0 2 0 6 1 1 3 7 6 7 1 1 5 8 0 3 4 9 4 6 9 1 8 2\n",
      " 7 1 4 3 4 4 1 4 3 1 7 3 9 7 6 9 1 3 2 8 3 3 6 7 2 4 7 8 5 1 1 4 4 5 1 0 7\n",
      " 7 0 7 9 9 4 8 5 5 9 0 3 2 1 6 8 4 8 0 4 0 6 1 7 3 8 6 7 2 6 9 5 1 4 6 8 5\n",
      " 9 1 0 6 2 1 7 3 9 1 0 3 4 3 1 1 7 4 9 9 9 8 4 0 2 4 8 1 1 6 4 9 1 9 9 2 4\n",
      " 1 5 5 3 5 3 1 4 5 6 8 9 4 1 4 3 8 0 5 2 5 1 2]\n",
      "Ακρίβεια για τον NCC: 75.75 %\n",
      "Time:  0.09379859499998133 seconds\n"
     ]
    }
   ],
   "source": [
    "start = timeit.default_timer()\n",
    "clf = NearestCentroid(second_new_train_data, new_train_labels)\n",
    "clf.fit()\n",
    "predictions = clf.predict(second_new_test_data)\n",
    "predictions = np.array(predictions)\n",
    "predictions = predictions.flatten()\n",
    "print(\"Προβέψεις για τον NCC:\", predictions)\n",
    "# Εύρεση της Ακρίβειας (με βάση την Εκατονταβάθμια Κλίμακα)\n",
    "print(\"Ακρίβεια για τον NCC:\", format(accuracy(new_test_labels, predictions)*100, \".2f\"), \"%\")\n",
    "stop = timeit.default_timer()\n",
    "print('Time: ', stop - start, 'seconds')\n"
   ]
  }
 ],
 "metadata": {
  "accelerator": "GPU",
  "colab": {
   "provenance": []
  },
  "gpuClass": "standard",
  "kernelspec": {
   "display_name": "Python 3 (ipykernel)",
   "language": "python",
   "name": "python3"
  },
  "language_info": {
   "codemirror_mode": {
    "name": "ipython",
    "version": 3
   },
   "file_extension": ".py",
   "mimetype": "text/x-python",
   "name": "python",
   "nbconvert_exporter": "python",
   "pygments_lexer": "ipython3",
   "version": "3.9.7"
  }
 },
 "nbformat": 4,
 "nbformat_minor": 1
}
